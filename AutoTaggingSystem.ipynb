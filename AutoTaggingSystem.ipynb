{
  "nbformat": 4,
  "nbformat_minor": 0,
  "metadata": {
    "colab": {
      "name": "AutoTaggingSystem.ipynb",
      "provenance": [],
      "collapsed_sections": [
        "f1QO2V5C1q0c",
        "iPD3sYkO2C8k",
        "8cN7_48hWIGA",
        "qWU2ZDir2q0j"
      ],
      "machine_shape": "hm"
    },
    "kernelspec": {
      "name": "python3",
      "display_name": "Python 3"
    },
    "accelerator": "GPU"
  },
  "cells": [
    {
      "cell_type": "markdown",
      "metadata": {
        "id": "mTMDkffWSky-"
      },
      "source": [
        "\n",
        "# Objective\n",
        "\n",
        "The objective of notebook is to build a model to automatically predict tags for a given a StackExchange question by using the text of the question in PyTorch.\n",
        "![alt text](https://cdn.sstatic.net/Sites/stackoverflow/company/img/logos/se/se-logo.svg?v=d29f0785ebb7)\n",
        "\n",
        "__Dataset Specs__: Over 85,000 questions and over 1300 unique tags\n",
        "\n",
        "[Download Link](https://www.kaggle.com/stackoverflow/statsquestions#Questions.csv)\n",
        "\n",
        "\n",
        "# Steps To Follow\n",
        "\n",
        "\n",
        "1. Load Data and Import Libraries\n",
        "\n",
        "2. Dataset Preparation\n",
        "\n",
        "      2.1 Merge Tags with Questions\n",
        "\n",
        "      2.2 Filter Questions with respect to Top-10 Tags\n",
        "      \n",
        "3. Text Preprocessing\n",
        "\n",
        "      3.1 Text Cleaning\n",
        "\n",
        "      3.2 Text Representation\n",
        "\n",
        "4. Model Building\n",
        "\n",
        "      4.1 Model Architecture\n",
        "\n",
        "      4.2 Model Training\n",
        "\n",
        "5. Model Evaluation\n",
        "\n",
        "      5.1 Check Performance\n",
        "\n",
        "      5.2 Show Inference\n",
        "\n",
        "6. Model Building for LSTM\n",
        "\n",
        "7. Model Evaluation for LSTM"
      ]
    },
    {
      "cell_type": "markdown",
      "metadata": {
        "id": "48YGFqrAy6zf"
      },
      "source": [
        "# 1. Load Data and Import Libraries"
      ]
    },
    {
      "cell_type": "code",
      "metadata": {
        "id": "bJvSO7bDONu4",
        "colab": {
          "base_uri": "https://localhost:8080/"
        },
        "outputId": "ee012d93-e647-4a80-a8ba-7e6a4d02eb54"
      },
      "source": [
        "from google.colab import drive\n",
        "drive.mount('/content/drive')"
      ],
      "execution_count": 1,
      "outputs": [
        {
          "output_type": "stream",
          "text": [
            "Mounted at /content/drive\n"
          ],
          "name": "stdout"
        }
      ]
    },
    {
      "cell_type": "code",
      "metadata": {
        "id": "aZiyIx06RTdD"
      },
      "source": [
        "# # extract data from the ZIP file\n",
        "# !unzip '/content/drive/My Drive/statsquestions.zip'"
      ],
      "execution_count": 2,
      "outputs": []
    },
    {
      "cell_type": "code",
      "metadata": {
        "id": "fM2S4yCsR7i6"
      },
      "source": [
        "#string matching\n",
        "import re \n",
        "\n",
        "#reading files\n",
        "import pandas as pd\n",
        "## change display width of pandas dataframe\n",
        "pd.set_option('display.max_colwidth', 200)\n",
        "\n",
        "#array processing\n",
        "import numpy as np\n",
        "\n",
        "#handling html data\n",
        "from bs4 import BeautifulSoup\n",
        "\n",
        "#visualization\n",
        "import matplotlib.pyplot as plt  \n",
        "\n",
        "#for metrics\n",
        "from sklearn import metrics\n",
        "\n",
        "#for seed\n",
        "import random\n",
        "\n",
        "# to one hot encode labels\n",
        "from sklearn.preprocessing import MultiLabelBinarizer\n",
        "\n",
        "#defining tensors\n",
        "import torch\n",
        "\n",
        "#layers\n",
        "from torch import nn\n",
        "\n",
        "#layers and wrappers\n",
        "from torch.nn import Sequential, Linear,  ReLU, Sigmoid, Dropout, BCELoss, Embedding, RNN, LSTM\n",
        "\n",
        "#handling text data\n",
        "from torchtext.legacy import data "
      ],
      "execution_count": 3,
      "outputs": []
    },
    {
      "cell_type": "code",
      "metadata": {
        "id": "JD8BvEEFR_40"
      },
      "source": [
        "# load the stackoverflow questions dataset\n",
        "questions_df = pd.read_csv('/content/drive/MyDrive/RNN/Dataset/Questions.csv',encoding='latin-1')\n",
        "\n",
        "# load the tags dataset\n",
        "tags_df = pd.read_csv('/content/drive/MyDrive/RNN/Dataset/Tags.csv')"
      ],
      "execution_count": 4,
      "outputs": []
    },
    {
      "cell_type": "code",
      "metadata": {
        "id": "mE88kY9WR_-n",
        "colab": {
          "base_uri": "https://localhost:8080/",
          "height": 302
        },
        "outputId": "0ba0cff8-ebd6-448b-902c-59773e6ef13e"
      },
      "source": [
        "#Glance at the first 5 rows\n",
        "questions_df.head()"
      ],
      "execution_count": 5,
      "outputs": [
        {
          "output_type": "execute_result",
          "data": {
            "text/html": [
              "<div>\n",
              "<style scoped>\n",
              "    .dataframe tbody tr th:only-of-type {\n",
              "        vertical-align: middle;\n",
              "    }\n",
              "\n",
              "    .dataframe tbody tr th {\n",
              "        vertical-align: top;\n",
              "    }\n",
              "\n",
              "    .dataframe thead th {\n",
              "        text-align: right;\n",
              "    }\n",
              "</style>\n",
              "<table border=\"1\" class=\"dataframe\">\n",
              "  <thead>\n",
              "    <tr style=\"text-align: right;\">\n",
              "      <th></th>\n",
              "      <th>Id</th>\n",
              "      <th>OwnerUserId</th>\n",
              "      <th>CreationDate</th>\n",
              "      <th>Score</th>\n",
              "      <th>Title</th>\n",
              "      <th>Body</th>\n",
              "    </tr>\n",
              "  </thead>\n",
              "  <tbody>\n",
              "    <tr>\n",
              "      <th>0</th>\n",
              "      <td>6</td>\n",
              "      <td>5.0</td>\n",
              "      <td>2010-07-19T19:14:44Z</td>\n",
              "      <td>272</td>\n",
              "      <td>The Two Cultures: statistics vs. machine learning?</td>\n",
              "      <td>&lt;p&gt;Last year, I read a blog post from &lt;a href=\"http://anyall.org/\"&gt;Brendan O'Connor&lt;/a&gt; entitled &lt;a href=\"http://anyall.org/blog/2008/12/statistics-vs-machine-learning-fight/\"&gt;\"Statistics vs. Mach...</td>\n",
              "    </tr>\n",
              "    <tr>\n",
              "      <th>1</th>\n",
              "      <td>21</td>\n",
              "      <td>59.0</td>\n",
              "      <td>2010-07-19T19:24:36Z</td>\n",
              "      <td>4</td>\n",
              "      <td>Forecasting demographic census</td>\n",
              "      <td>&lt;p&gt;What are some of the ways to forecast demographic census with some validation and calibration techniques?&lt;/p&gt;\\n\\n&lt;p&gt;Some of the concerns:&lt;/p&gt;\\n\\n&lt;ul&gt;\\n&lt;li&gt;Census blocks vary in sizes as rural\\n...</td>\n",
              "    </tr>\n",
              "    <tr>\n",
              "      <th>2</th>\n",
              "      <td>22</td>\n",
              "      <td>66.0</td>\n",
              "      <td>2010-07-19T19:25:39Z</td>\n",
              "      <td>208</td>\n",
              "      <td>Bayesian and frequentist reasoning in plain English</td>\n",
              "      <td>&lt;p&gt;How would you describe in plain English the characteristics that distinguish Bayesian from Frequentist reasoning?&lt;/p&gt;\\n</td>\n",
              "    </tr>\n",
              "    <tr>\n",
              "      <th>3</th>\n",
              "      <td>31</td>\n",
              "      <td>13.0</td>\n",
              "      <td>2010-07-19T19:28:44Z</td>\n",
              "      <td>138</td>\n",
              "      <td>What is the meaning of p values and t values in statistical tests?</td>\n",
              "      <td>&lt;p&gt;After taking a statistics course and then trying to help fellow students, I noticed one subject that inspires much head-desk banging is interpreting the results of statistical hypothesis tests....</td>\n",
              "    </tr>\n",
              "    <tr>\n",
              "      <th>4</th>\n",
              "      <td>36</td>\n",
              "      <td>8.0</td>\n",
              "      <td>2010-07-19T19:31:47Z</td>\n",
              "      <td>58</td>\n",
              "      <td>Examples for teaching: Correlation does not mean causation</td>\n",
              "      <td>&lt;p&gt;There is an old saying: \"Correlation does not mean causation\". When I teach, I tend to use the following standard examples to illustrate this point:&lt;/p&gt;\\n\\n&lt;ol&gt;\\n&lt;li&gt;number of storks and birth ...</td>\n",
              "    </tr>\n",
              "  </tbody>\n",
              "</table>\n",
              "</div>"
            ],
            "text/plain": [
              "   Id  ...                                                                                                                                                                                                     Body\n",
              "0   6  ...  <p>Last year, I read a blog post from <a href=\"http://anyall.org/\">Brendan O'Connor</a> entitled <a href=\"http://anyall.org/blog/2008/12/statistics-vs-machine-learning-fight/\">\"Statistics vs. Mach...\n",
              "1  21  ...  <p>What are some of the ways to forecast demographic census with some validation and calibration techniques?</p>\\n\\n<p>Some of the concerns:</p>\\n\\n<ul>\\n<li>Census blocks vary in sizes as rural\\n...\n",
              "2  22  ...                                                                               <p>How would you describe in plain English the characteristics that distinguish Bayesian from Frequentist reasoning?</p>\\n\n",
              "3  31  ...  <p>After taking a statistics course and then trying to help fellow students, I noticed one subject that inspires much head-desk banging is interpreting the results of statistical hypothesis tests....\n",
              "4  36  ...  <p>There is an old saying: \"Correlation does not mean causation\". When I teach, I tend to use the following standard examples to illustrate this point:</p>\\n\\n<ol>\\n<li>number of storks and birth ...\n",
              "\n",
              "[5 rows x 6 columns]"
            ]
          },
          "metadata": {
            "tags": []
          },
          "execution_count": 5
        }
      ]
    },
    {
      "cell_type": "code",
      "metadata": {
        "id": "qxvK_9YFG2M1",
        "colab": {
          "base_uri": "https://localhost:8080/"
        },
        "outputId": "cb18e91b-edbc-4e97-c53e-acc0eff786e9"
      },
      "source": [
        "#shape of the dataset\n",
        "questions_df.shape"
      ],
      "execution_count": 6,
      "outputs": [
        {
          "output_type": "execute_result",
          "data": {
            "text/plain": [
              "(85085, 6)"
            ]
          },
          "metadata": {
            "tags": []
          },
          "execution_count": 6
        }
      ]
    },
    {
      "cell_type": "code",
      "metadata": {
        "id": "o7wSglDJSGWf",
        "colab": {
          "base_uri": "https://localhost:8080/",
          "height": 202
        },
        "outputId": "4aa0bcb3-1002-45bc-edcf-86e0bb4e3e13"
      },
      "source": [
        "#Take a glance at first 5 rows\n",
        "tags_df.head()"
      ],
      "execution_count": 7,
      "outputs": [
        {
          "output_type": "execute_result",
          "data": {
            "text/html": [
              "<div>\n",
              "<style scoped>\n",
              "    .dataframe tbody tr th:only-of-type {\n",
              "        vertical-align: middle;\n",
              "    }\n",
              "\n",
              "    .dataframe tbody tr th {\n",
              "        vertical-align: top;\n",
              "    }\n",
              "\n",
              "    .dataframe thead th {\n",
              "        text-align: right;\n",
              "    }\n",
              "</style>\n",
              "<table border=\"1\" class=\"dataframe\">\n",
              "  <thead>\n",
              "    <tr style=\"text-align: right;\">\n",
              "      <th></th>\n",
              "      <th>Id</th>\n",
              "      <th>Tag</th>\n",
              "    </tr>\n",
              "  </thead>\n",
              "  <tbody>\n",
              "    <tr>\n",
              "      <th>0</th>\n",
              "      <td>1</td>\n",
              "      <td>bayesian</td>\n",
              "    </tr>\n",
              "    <tr>\n",
              "      <th>1</th>\n",
              "      <td>1</td>\n",
              "      <td>prior</td>\n",
              "    </tr>\n",
              "    <tr>\n",
              "      <th>2</th>\n",
              "      <td>1</td>\n",
              "      <td>elicitation</td>\n",
              "    </tr>\n",
              "    <tr>\n",
              "      <th>3</th>\n",
              "      <td>2</td>\n",
              "      <td>distributions</td>\n",
              "    </tr>\n",
              "    <tr>\n",
              "      <th>4</th>\n",
              "      <td>2</td>\n",
              "      <td>normality</td>\n",
              "    </tr>\n",
              "  </tbody>\n",
              "</table>\n",
              "</div>"
            ],
            "text/plain": [
              "   Id            Tag\n",
              "0   1       bayesian\n",
              "1   1          prior\n",
              "2   1    elicitation\n",
              "3   2  distributions\n",
              "4   2      normality"
            ]
          },
          "metadata": {
            "tags": []
          },
          "execution_count": 7
        }
      ]
    },
    {
      "cell_type": "code",
      "metadata": {
        "id": "Xz1-htTsSGM8",
        "colab": {
          "base_uri": "https://localhost:8080/"
        },
        "outputId": "02b47619-695d-496b-8681-2f4643366962"
      },
      "source": [
        "# No. of unique tags\n",
        "len(tags_df['Tag'].unique())"
      ],
      "execution_count": 8,
      "outputs": [
        {
          "output_type": "execute_result",
          "data": {
            "text/plain": [
              "1315"
            ]
          },
          "metadata": {
            "tags": []
          },
          "execution_count": 8
        }
      ]
    },
    {
      "cell_type": "markdown",
      "metadata": {
        "id": "5nQjFYQtTNH6"
      },
      "source": [
        "# 2. Dataset Preparation"
      ]
    },
    {
      "cell_type": "markdown",
      "metadata": {
        "id": "--FBzpS7y2t7"
      },
      "source": [
        "## 2.1 Merge Tags with Questions"
      ]
    },
    {
      "cell_type": "code",
      "metadata": {
        "id": "UKoRHljISb83"
      },
      "source": [
        "# remove \"-\" from the tags\n",
        "tags_df['Tag'] = tags_df['Tag'].apply(lambda x:re.sub(\"-\",\" \",x))"
      ],
      "execution_count": 9,
      "outputs": []
    },
    {
      "cell_type": "code",
      "metadata": {
        "id": "mWQyeoa4ScDz",
        "colab": {
          "base_uri": "https://localhost:8080/",
          "height": 202
        },
        "outputId": "ba806c78-87f3-468b-8f4f-0543b381aa9f"
      },
      "source": [
        "# group tags Id wise\n",
        "tags_df = tags_df.groupby('Id').apply(lambda x:x['Tag'].values).reset_index(name='tags')\n",
        "tags_df.head()"
      ],
      "execution_count": 10,
      "outputs": [
        {
          "output_type": "execute_result",
          "data": {
            "text/html": [
              "<div>\n",
              "<style scoped>\n",
              "    .dataframe tbody tr th:only-of-type {\n",
              "        vertical-align: middle;\n",
              "    }\n",
              "\n",
              "    .dataframe tbody tr th {\n",
              "        vertical-align: top;\n",
              "    }\n",
              "\n",
              "    .dataframe thead th {\n",
              "        text-align: right;\n",
              "    }\n",
              "</style>\n",
              "<table border=\"1\" class=\"dataframe\">\n",
              "  <thead>\n",
              "    <tr style=\"text-align: right;\">\n",
              "      <th></th>\n",
              "      <th>Id</th>\n",
              "      <th>tags</th>\n",
              "    </tr>\n",
              "  </thead>\n",
              "  <tbody>\n",
              "    <tr>\n",
              "      <th>0</th>\n",
              "      <td>1</td>\n",
              "      <td>[bayesian, prior, elicitation]</td>\n",
              "    </tr>\n",
              "    <tr>\n",
              "      <th>1</th>\n",
              "      <td>2</td>\n",
              "      <td>[distributions, normality]</td>\n",
              "    </tr>\n",
              "    <tr>\n",
              "      <th>2</th>\n",
              "      <td>3</td>\n",
              "      <td>[software, open source]</td>\n",
              "    </tr>\n",
              "    <tr>\n",
              "      <th>3</th>\n",
              "      <td>4</td>\n",
              "      <td>[distributions, statistical significance]</td>\n",
              "    </tr>\n",
              "    <tr>\n",
              "      <th>4</th>\n",
              "      <td>6</td>\n",
              "      <td>[machine learning]</td>\n",
              "    </tr>\n",
              "  </tbody>\n",
              "</table>\n",
              "</div>"
            ],
            "text/plain": [
              "   Id                                       tags\n",
              "0   1             [bayesian, prior, elicitation]\n",
              "1   2                 [distributions, normality]\n",
              "2   3                    [software, open source]\n",
              "3   4  [distributions, statistical significance]\n",
              "4   6                         [machine learning]"
            ]
          },
          "metadata": {
            "tags": []
          },
          "execution_count": 10
        }
      ]
    },
    {
      "cell_type": "code",
      "metadata": {
        "id": "EB8sYYOrScCC"
      },
      "source": [
        "# merge tags and questions\n",
        "df = pd.merge(questions_df,tags_df,how='inner',on='Id')"
      ],
      "execution_count": 11,
      "outputs": []
    },
    {
      "cell_type": "code",
      "metadata": {
        "id": "pD7UD9yNSmk1"
      },
      "source": [
        "# fetch required columns\n",
        "df = df[['Id','Body','tags']]"
      ],
      "execution_count": 12,
      "outputs": []
    },
    {
      "cell_type": "code",
      "metadata": {
        "id": "zZEEr2B5eosb",
        "colab": {
          "base_uri": "https://localhost:8080/",
          "height": 269
        },
        "outputId": "0d5a02cc-cfe2-4358-fbb4-e70bb1478798"
      },
      "source": [
        "#first 5 rows\n",
        "df.head()"
      ],
      "execution_count": 13,
      "outputs": [
        {
          "output_type": "execute_result",
          "data": {
            "text/html": [
              "<div>\n",
              "<style scoped>\n",
              "    .dataframe tbody tr th:only-of-type {\n",
              "        vertical-align: middle;\n",
              "    }\n",
              "\n",
              "    .dataframe tbody tr th {\n",
              "        vertical-align: top;\n",
              "    }\n",
              "\n",
              "    .dataframe thead th {\n",
              "        text-align: right;\n",
              "    }\n",
              "</style>\n",
              "<table border=\"1\" class=\"dataframe\">\n",
              "  <thead>\n",
              "    <tr style=\"text-align: right;\">\n",
              "      <th></th>\n",
              "      <th>Id</th>\n",
              "      <th>Body</th>\n",
              "      <th>tags</th>\n",
              "    </tr>\n",
              "  </thead>\n",
              "  <tbody>\n",
              "    <tr>\n",
              "      <th>0</th>\n",
              "      <td>6</td>\n",
              "      <td>&lt;p&gt;Last year, I read a blog post from &lt;a href=\"http://anyall.org/\"&gt;Brendan O'Connor&lt;/a&gt; entitled &lt;a href=\"http://anyall.org/blog/2008/12/statistics-vs-machine-learning-fight/\"&gt;\"Statistics vs. Mach...</td>\n",
              "      <td>[machine learning]</td>\n",
              "    </tr>\n",
              "    <tr>\n",
              "      <th>1</th>\n",
              "      <td>21</td>\n",
              "      <td>&lt;p&gt;What are some of the ways to forecast demographic census with some validation and calibration techniques?&lt;/p&gt;\\n\\n&lt;p&gt;Some of the concerns:&lt;/p&gt;\\n\\n&lt;ul&gt;\\n&lt;li&gt;Census blocks vary in sizes as rural\\n...</td>\n",
              "      <td>[forecasting, population, census]</td>\n",
              "    </tr>\n",
              "    <tr>\n",
              "      <th>2</th>\n",
              "      <td>22</td>\n",
              "      <td>&lt;p&gt;How would you describe in plain English the characteristics that distinguish Bayesian from Frequentist reasoning?&lt;/p&gt;\\n</td>\n",
              "      <td>[bayesian, frequentist]</td>\n",
              "    </tr>\n",
              "    <tr>\n",
              "      <th>3</th>\n",
              "      <td>31</td>\n",
              "      <td>&lt;p&gt;After taking a statistics course and then trying to help fellow students, I noticed one subject that inspires much head-desk banging is interpreting the results of statistical hypothesis tests....</td>\n",
              "      <td>[hypothesis testing, t test, p value, interpretation, intuition]</td>\n",
              "    </tr>\n",
              "    <tr>\n",
              "      <th>4</th>\n",
              "      <td>36</td>\n",
              "      <td>&lt;p&gt;There is an old saying: \"Correlation does not mean causation\". When I teach, I tend to use the following standard examples to illustrate this point:&lt;/p&gt;\\n\\n&lt;ol&gt;\\n&lt;li&gt;number of storks and birth ...</td>\n",
              "      <td>[correlation, teaching]</td>\n",
              "    </tr>\n",
              "  </tbody>\n",
              "</table>\n",
              "</div>"
            ],
            "text/plain": [
              "   Id  ...                                                              tags\n",
              "0   6  ...                                                [machine learning]\n",
              "1  21  ...                                 [forecasting, population, census]\n",
              "2  22  ...                                           [bayesian, frequentist]\n",
              "3  31  ...  [hypothesis testing, t test, p value, interpretation, intuition]\n",
              "4  36  ...                                           [correlation, teaching]\n",
              "\n",
              "[5 rows x 3 columns]"
            ]
          },
          "metadata": {
            "tags": []
          },
          "execution_count": 13
        }
      ]
    },
    {
      "cell_type": "code",
      "metadata": {
        "id": "J28FYn8xSmqM",
        "colab": {
          "base_uri": "https://localhost:8080/"
        },
        "outputId": "02b51072-752e-44cb-f0b6-c384e10c9ece"
      },
      "source": [
        "#shape of the dataset\n",
        "df.shape"
      ],
      "execution_count": 14,
      "outputs": [
        {
          "output_type": "execute_result",
          "data": {
            "text/plain": [
              "(85085, 3)"
            ]
          },
          "metadata": {
            "tags": []
          },
          "execution_count": 14
        }
      ]
    },
    {
      "cell_type": "markdown",
      "metadata": {
        "id": "Y1ZvB-t9TYKh"
      },
      "source": [
        "## 2.2 Filter Questions with respect to Top-10 Tags"
      ]
    },
    {
      "cell_type": "code",
      "metadata": {
        "id": "n9XRjQ_wSmvh"
      },
      "source": [
        "# check occurence of each tag\n",
        "freq={}\n",
        "for i in df['tags']:\n",
        "  for j in i:\n",
        "    if j in freq.keys():\n",
        "      freq[j] = freq[j] + 1\n",
        "    else:\n",
        "      freq[j] = 1"
      ],
      "execution_count": 15,
      "outputs": []
    },
    {
      "cell_type": "code",
      "metadata": {
        "id": "DSVPSJnCSvUt"
      },
      "source": [
        "# sort the dictionary in descending order\n",
        "freq = dict(sorted(freq.items(), key=lambda x:x[1],reverse=True))"
      ],
      "execution_count": 16,
      "outputs": []
    },
    {
      "cell_type": "code",
      "metadata": {
        "id": "PxDCpuGFSvhH",
        "colab": {
          "base_uri": "https://localhost:8080/"
        },
        "outputId": "c646d642-4e83-48ac-8288-8bd2ed36a8ba"
      },
      "source": [
        "# Top 10 most frequent tags\n",
        "common_tags = list(freq.keys())[:10]\n",
        "print(common_tags)"
      ],
      "execution_count": 17,
      "outputs": [
        {
          "output_type": "stream",
          "text": [
            "['r', 'regression', 'machine learning', 'time series', 'probability', 'hypothesis testing', 'self study', 'distributions', 'logistic', 'classification']\n"
          ],
          "name": "stdout"
        }
      ]
    },
    {
      "cell_type": "markdown",
      "metadata": {
        "id": "OPC21Z5aTkB8"
      },
      "source": [
        "We will use only those questions/queries that are associated with the top 10 tags."
      ]
    },
    {
      "cell_type": "code",
      "metadata": {
        "id": "YNksVjF6SvqS"
      },
      "source": [
        "#finding queries associated with common tags\n",
        "x=[]\n",
        "y=[]\n",
        "\n",
        "for i in range(len(df['tags'])):  \n",
        "\n",
        "  temp=[]\n",
        "  for j in df['tags'][i]:\n",
        "    if j in common_tags:\n",
        "      temp.append(j)\n",
        "  \n",
        "  #if common tags are more than 1\n",
        "  if(len(temp)>1):\n",
        "    x.append(df['Body'][i])\n",
        "    y.append(temp)"
      ],
      "execution_count": 18,
      "outputs": []
    },
    {
      "cell_type": "code",
      "metadata": {
        "id": "Ck6w3DsfS82D",
        "colab": {
          "base_uri": "https://localhost:8080/"
        },
        "outputId": "8a700839-640e-435e-d21b-a9fecb9ea5e6"
      },
      "source": [
        "# number of questions left\n",
        "len(x)"
      ],
      "execution_count": 19,
      "outputs": [
        {
          "output_type": "execute_result",
          "data": {
            "text/plain": [
              "11106"
            ]
          },
          "metadata": {
            "tags": []
          },
          "execution_count": 19
        }
      ]
    },
    {
      "cell_type": "code",
      "metadata": {
        "id": "2tLZqaHQ-4Bz",
        "colab": {
          "base_uri": "https://localhost:8080/"
        },
        "outputId": "0177fbe5-9a1c-4944-be64-2010b106e860"
      },
      "source": [
        "#first 5 tags\n",
        "y[:5]"
      ],
      "execution_count": 20,
      "outputs": [
        {
          "output_type": "execute_result",
          "data": {
            "text/plain": [
              "[['r', 'time series'],\n",
              " ['regression', 'distributions'],\n",
              " ['distributions', 'probability', 'hypothesis testing'],\n",
              " ['hypothesis testing', 'self study'],\n",
              " ['r', 'regression', 'time series']]"
            ]
          },
          "metadata": {
            "tags": []
          },
          "execution_count": 20
        }
      ]
    },
    {
      "cell_type": "code",
      "metadata": {
        "id": "AfTeISu8A3KT"
      },
      "source": [
        "#combining the labels by space\n",
        "y = [ \",\".join([str(j) for j in i ]) for i in y]"
      ],
      "execution_count": 21,
      "outputs": []
    },
    {
      "cell_type": "code",
      "metadata": {
        "id": "LnceeB6B_Tbd",
        "colab": {
          "base_uri": "https://localhost:8080/"
        },
        "outputId": "3bc2f365-1459-44e7-f7d1-737fb8e24921"
      },
      "source": [
        "#labels after converting to string\n",
        "y[:5]"
      ],
      "execution_count": 22,
      "outputs": [
        {
          "output_type": "execute_result",
          "data": {
            "text/plain": [
              "['r,time series',\n",
              " 'regression,distributions',\n",
              " 'distributions,probability,hypothesis testing',\n",
              " 'hypothesis testing,self study',\n",
              " 'r,regression,time series']"
            ]
          },
          "metadata": {
            "tags": []
          },
          "execution_count": 22
        }
      ]
    },
    {
      "cell_type": "code",
      "metadata": {
        "id": "ZYblHXWVgt_S"
      },
      "source": [
        "#save to dataframe\n",
        "dframe = pd.DataFrame({'query':x,'tags':y})"
      ],
      "execution_count": 23,
      "outputs": []
    },
    {
      "cell_type": "code",
      "metadata": {
        "id": "fGUumAqqBpDa",
        "colab": {
          "base_uri": "https://localhost:8080/",
          "height": 269
        },
        "outputId": "8fd4d3b1-05fe-413e-88be-f8ea4135143c"
      },
      "source": [
        "#first 5 rows\n",
        "dframe.head()"
      ],
      "execution_count": 24,
      "outputs": [
        {
          "output_type": "execute_result",
          "data": {
            "text/html": [
              "<div>\n",
              "<style scoped>\n",
              "    .dataframe tbody tr th:only-of-type {\n",
              "        vertical-align: middle;\n",
              "    }\n",
              "\n",
              "    .dataframe tbody tr th {\n",
              "        vertical-align: top;\n",
              "    }\n",
              "\n",
              "    .dataframe thead th {\n",
              "        text-align: right;\n",
              "    }\n",
              "</style>\n",
              "<table border=\"1\" class=\"dataframe\">\n",
              "  <thead>\n",
              "    <tr style=\"text-align: right;\">\n",
              "      <th></th>\n",
              "      <th>query</th>\n",
              "      <th>tags</th>\n",
              "    </tr>\n",
              "  </thead>\n",
              "  <tbody>\n",
              "    <tr>\n",
              "      <th>0</th>\n",
              "      <td>&lt;p&gt;I recently started working for a tuberculosis clinic.  We meet periodically to discuss the number of TB cases we're currently treating, the number of tests administered, etc.  I'd like to start...</td>\n",
              "      <td>r,time series</td>\n",
              "    </tr>\n",
              "    <tr>\n",
              "      <th>1</th>\n",
              "      <td>&lt;p&gt;Am I looking for a better behaved distribution for the independent variable in question, or to reduce the effect of outliers, or something else?&lt;/p&gt;\\n</td>\n",
              "      <td>regression,distributions</td>\n",
              "    </tr>\n",
              "    <tr>\n",
              "      <th>2</th>\n",
              "      <td>&lt;p&gt;There are many ways to measure how similar two probability distributions are.  Among methods which are popular (in different circles) are:&lt;/p&gt;\\n\\n&lt;ol&gt;\\n&lt;li&gt;&lt;p&gt;the Kolmogorov distance: the sup-d...</td>\n",
              "      <td>distributions,probability,hypothesis testing</td>\n",
              "    </tr>\n",
              "    <tr>\n",
              "      <th>3</th>\n",
              "      <td>&lt;blockquote&gt;\\n  &lt;p&gt;A Lab has been asked to evaluate the claim that drinking water in a\\n  local restaurant has a lead concentration of 6 parts per billion\\n  (ppb). Repeated measurements follow a ...</td>\n",
              "      <td>hypothesis testing,self study</td>\n",
              "    </tr>\n",
              "    <tr>\n",
              "      <th>4</th>\n",
              "      <td>&lt;p&gt;How would we measure the predictive power of predictors in time series models. For e.g. in linear regression we have the magnitude and direction of the regression co-efficients and their p-valu...</td>\n",
              "      <td>r,regression,time series</td>\n",
              "    </tr>\n",
              "  </tbody>\n",
              "</table>\n",
              "</div>"
            ],
            "text/plain": [
              "                                                                                                                                                                                                     query                                          tags\n",
              "0  <p>I recently started working for a tuberculosis clinic.  We meet periodically to discuss the number of TB cases we're currently treating, the number of tests administered, etc.  I'd like to start...                                 r,time series\n",
              "1                                                <p>Am I looking for a better behaved distribution for the independent variable in question, or to reduce the effect of outliers, or something else?</p>\\n                      regression,distributions\n",
              "2  <p>There are many ways to measure how similar two probability distributions are.  Among methods which are popular (in different circles) are:</p>\\n\\n<ol>\\n<li><p>the Kolmogorov distance: the sup-d...  distributions,probability,hypothesis testing\n",
              "3  <blockquote>\\n  <p>A Lab has been asked to evaluate the claim that drinking water in a\\n  local restaurant has a lead concentration of 6 parts per billion\\n  (ppb). Repeated measurements follow a ...                 hypothesis testing,self study\n",
              "4  <p>How would we measure the predictive power of predictors in time series models. For e.g. in linear regression we have the magnitude and direction of the regression co-efficients and their p-valu...                      r,regression,time series"
            ]
          },
          "metadata": {
            "tags": []
          },
          "execution_count": 24
        }
      ]
    },
    {
      "cell_type": "code",
      "metadata": {
        "id": "27-gnDPi60yg"
      },
      "source": [
        "#save to csv\n",
        "dframe.to_csv('/content/drive/MyDrive/RNN/Dataset/stack_data.csv',index=False)"
      ],
      "execution_count": 25,
      "outputs": []
    },
    {
      "cell_type": "markdown",
      "metadata": {
        "id": "F5E3gvtJ0_eC"
      },
      "source": [
        "# 3. Text Preprocessing"
      ]
    },
    {
      "cell_type": "markdown",
      "metadata": {
        "id": "Je87HHtQA6bO"
      },
      "source": [
        "Now, we will see the one of the most important library in PyTorch for handling text data - TorchText \n",
        "\n",
        "\n",
        "\n",
        "**TorchText** is a Natural Language Processing (NLP) library in PyTorch. This library contains the scripts for preprocessing text and data sources of few popular NLP datasets to test out the scripts."
      ]
    },
    {
      "cell_type": "markdown",
      "metadata": {
        "id": "HLmFzuLDCH0d"
      },
      "source": [
        "TorchText understands and operates on text data in terms of Field objects, and then Field objects are used to define the steps for text preprocessing\n",
        "\n",
        "There are 2 different types of field objects – **Field** and **LabelField**. \n",
        "\n",
        "* **Field**: Field object is used to specify preprocessing steps for each column in the dataset.\n",
        "\n",
        "* **LabelField**: LabelField object is a special case of Field object which is used only for the preprocessing of label column. \n",
        "\n",
        "Before we use Field, let us look at the different parameters of Field and what are they used for.\n",
        "\n",
        "**Parameters of Field**:\n",
        "\n",
        "* **Tokenize**: It specifies the way of tokenizing the sentence i.e. converting sentence to words. By default, it tokenizes with respect to spaces\n",
        "\n",
        "    * *Note*: It can be replaced by the preprocessing function as well.\n",
        "\n",
        "* **Lower**: It converts text to lowercase\n",
        "\n",
        "* **batch_first**: The first dimension of input and output is always batch size\n",
        "\n",
        "* **fix_length**: Maximum length of a sentence\n",
        "\n",
        "* **unk_token**: The string token used to represent OOV words. By default, this value is \"UNK\""
      ]
    },
    {
      "cell_type": "markdown",
      "metadata": {
        "id": "IM2i7pJ-1RLm"
      },
      "source": [
        "## 3.1 Text Cleaning"
      ]
    },
    {
      "cell_type": "code",
      "metadata": {
        "id": "ruV5khtmAiDU"
      },
      "source": [
        "def cleaner(text):\n",
        "\n",
        "  text = BeautifulSoup(text).get_text()\n",
        "  \n",
        "  # fetch alphabetic characters\n",
        "  text = re.sub(\"[^a-zA-Z]\", \" \", text)\n",
        "\n",
        "  # convert text to lower case\n",
        "  text = text.lower()\n",
        "\n",
        "  # split text into tokens to remove whitespaces\n",
        "  tokens = text.split()\n",
        "  \n",
        "  return tokens"
      ],
      "execution_count": 26,
      "outputs": []
    },
    {
      "cell_type": "code",
      "metadata": {
        "id": "SW0eN1UnrchO"
      },
      "source": [
        "#define field object for query\n",
        "max_len = 100\n",
        "TEXT = data.Field(tokenize=cleaner, batch_first=True, fix_length=max_len)"
      ],
      "execution_count": 27,
      "outputs": []
    },
    {
      "cell_type": "code",
      "metadata": {
        "id": "Z9PfZ04R8NkK"
      },
      "source": [
        "#define field object for label\n",
        "LABEL = data.LabelField(batch_first=True)"
      ],
      "execution_count": 28,
      "outputs": []
    },
    {
      "cell_type": "markdown",
      "metadata": {
        "id": "zlM-zyeSEkEi"
      },
      "source": [
        "Next we are going to create a list of tuples where first value in every tuple contains a column name and second value is a field object. Furthermore we will arrange each tuple in the order of the columns of csv.\n",
        "\n",
        "Let us read only required columns – query and tags"
      ]
    },
    {
      "cell_type": "code",
      "metadata": {
        "id": "GFoE3QDb8NfI"
      },
      "source": [
        "#define a list of tuple with field objects\n",
        "fields = [('query',TEXT),('tags', LABEL)]"
      ],
      "execution_count": 29,
      "outputs": []
    },
    {
      "cell_type": "markdown",
      "metadata": {
        "id": "BtZKZJZVEvCS"
      },
      "source": [
        "Now, we will load the custom dataset by defining the list of tuples. For this we use TabularDataset class\n",
        "\n",
        "**Parameters of TabularDataset**:\n",
        "\n",
        "* **path**: set the path of dataset\n",
        "\n",
        "* **format**: provide extension of file. \n",
        "    * **Note**: There are a limited number of extensions accepted by TorchText. Read the docs for more details\n",
        "\n",
        "* **fields**: give tuple of user defined fields which data would have\n",
        "\n",
        "* **skip_header**: boolean value; if set to true - ignores the first line of the data file"
      ]
    },
    {
      "cell_type": "code",
      "metadata": {
        "id": "ZpOti-uNS8z_"
      },
      "source": [
        "#reading the dataset\n",
        "training_data = data.TabularDataset(path = '/content/drive/MyDrive/RNN/Dataset/stack_data.csv', format = 'csv', fields = fields, skip_header = True)"
      ],
      "execution_count": 30,
      "outputs": []
    },
    {
      "cell_type": "markdown",
      "metadata": {
        "id": "nDXopkVgS9vy"
      },
      "source": [
        "Let see whether we can see examples of training data or not"
      ]
    },
    {
      "cell_type": "code",
      "metadata": {
        "id": "w_U5N4OsS_ZI",
        "colab": {
          "base_uri": "https://localhost:8080/"
        },
        "outputId": "ffc75dc1-a29d-4f93-e560-3cd039815281"
      },
      "source": [
        "print(training_data)"
      ],
      "execution_count": 31,
      "outputs": [
        {
          "output_type": "stream",
          "text": [
            "<torchtext.legacy.data.dataset.TabularDataset object at 0x7f1bc69628d0>\n"
          ],
          "name": "stdout"
        }
      ]
    },
    {
      "cell_type": "markdown",
      "metadata": {
        "id": "_hvxo_fyTKPE"
      },
      "source": [
        "Now, we will see how to print the examples of training data"
      ]
    },
    {
      "cell_type": "code",
      "metadata": {
        "id": "t_imud4VBcGP",
        "colab": {
          "base_uri": "https://localhost:8080/"
        },
        "outputId": "40db5a15-f3b4-4ad9-8ea3-1da5361014d8"
      },
      "source": [
        "#print preprocessed text\n",
        "print(vars(training_data.examples[0]))"
      ],
      "execution_count": 32,
      "outputs": [
        {
          "output_type": "stream",
          "text": [
            "{'query': ['i', 'recently', 'started', 'working', 'for', 'a', 'tuberculosis', 'clinic', 'we', 'meet', 'periodically', 'to', 'discuss', 'the', 'number', 'of', 'tb', 'cases', 'we', 're', 'currently', 'treating', 'the', 'number', 'of', 'tests', 'administered', 'etc', 'i', 'd', 'like', 'to', 'start', 'modeling', 'these', 'counts', 'so', 'that', 'we', 're', 'not', 'just', 'guessing', 'whether', 'something', 'is', 'unusual', 'or', 'not', 'unfortunately', 'i', 've', 'had', 'very', 'little', 'training', 'in', 'time', 'series', 'and', 'most', 'of', 'my', 'exposure', 'has', 'been', 'to', 'models', 'for', 'very', 'continuous', 'data', 'stock', 'prices', 'or', 'very', 'large', 'numbers', 'of', 'counts', 'influenza', 'but', 'we', 'deal', 'with', 'cases', 'per', 'month', 'mean', 'median', 'var', 'which', 'are', 'distributed', 'like', 'this', 'image', 'lost', 'to', 'the', 'mists', 'of', 'time', 'image', 'eaten', 'by', 'a', 'grue', 'i', 've', 'found', 'a', 'few', 'articles', 'that', 'address', 'models', 'like', 'this', 'but', 'i', 'd', 'greatly', 'appreciate', 'hearing', 'suggestions', 'from', 'you', 'both', 'for', 'approaches', 'and', 'for', 'r', 'packages', 'that', 'i', 'could', 'use', 'to', 'implement', 'those', 'approaches', 'edit', 'mbq', 's', 'answer', 'has', 'forced', 'me', 'to', 'think', 'more', 'carefully', 'about', 'what', 'i', 'm', 'asking', 'here', 'i', 'got', 'too', 'hung', 'up', 'on', 'the', 'monthly', 'counts', 'and', 'lost', 'the', 'actual', 'focus', 'of', 'the', 'question', 'what', 'i', 'd', 'like', 'to', 'know', 'is', 'does', 'the', 'fairly', 'visible', 'decline', 'from', 'say', 'onward', 'reflect', 'a', 'downward', 'trend', 'in', 'the', 'overall', 'number', 'of', 'cases', 'it', 'looks', 'to', 'me', 'like', 'the', 'number', 'of', 'cases', 'monthly', 'from', 'reflects', 'a', 'stable', 'process', 'maybe', 'some', 'seasonality', 'but', 'overall', 'stable', 'from', 'through', 'the', 'present', 'it', 'looks', 'like', 'that', 'process', 'is', 'changing', 'the', 'overall', 'number', 'of', 'cases', 'is', 'declining', 'even', 'though', 'the', 'monthly', 'counts', 'might', 'wobble', 'up', 'and', 'down', 'due', 'to', 'randomness', 'and', 'seasonality', 'how', 'can', 'i', 'test', 'if', 'there', 's', 'a', 'real', 'change', 'in', 'the', 'process', 'and', 'if', 'i', 'can', 'identify', 'a', 'decline', 'how', 'could', 'i', 'use', 'that', 'trend', 'and', 'whatever', 'seasonality', 'there', 'might', 'be', 'to', 'estimate', 'the', 'number', 'of', 'cases', 'we', 'might', 'see', 'in', 'the', 'upcoming', 'months', 'whew', 'thanks', 'for', 'bearing', 'with', 'me'], 'tags': 'r,time series'}\n"
          ],
          "name": "stdout"
        }
      ]
    },
    {
      "cell_type": "markdown",
      "metadata": {
        "id": "T-QfgorLFIqF"
      },
      "source": [
        "As you can see here, the output is the cleaned text\n",
        "\n",
        "**Note**: *cleaning is done based on the field object defined* "
      ]
    },
    {
      "cell_type": "markdown",
      "metadata": {
        "id": "aZIK_ogyFmQz"
      },
      "source": [
        "Split the dataset into training and validation now"
      ]
    },
    {
      "cell_type": "code",
      "metadata": {
        "id": "40EZTlPsBVVA"
      },
      "source": [
        "train_data, valid_data = training_data.split(split_ratio=0.8, random_state = random.seed(32))"
      ],
      "execution_count": 33,
      "outputs": []
    },
    {
      "cell_type": "markdown",
      "metadata": {
        "id": "d0DyjPap1elw"
      },
      "source": [
        "## 3.2 Text Representation"
      ]
    },
    {
      "cell_type": "markdown",
      "metadata": {
        "id": "KBOJBsu0F32-"
      },
      "source": [
        "The next step is to build the vocabulary for the text. For this we use *build_vocab* function on field object to construct a vocab object for the field\n",
        "\n",
        "Below are the important parameters for build_vocab:\n",
        "\n",
        "**Parameter**:\n",
        "\n",
        "* **Dataset object**: which is used to specify the data on which vocabulary has to be created\n",
        "\n",
        "* **min_freq**: Ignores the words in vocabulary which has frequency less than or equal to specified one and map it to unknown token."
      ]
    },
    {
      "cell_type": "code",
      "metadata": {
        "id": "cB5kUf-g9fV8"
      },
      "source": [
        "#preparing the vocabulary for the text\n",
        "TEXT.build_vocab(train_data, min_freq=3)"
      ],
      "execution_count": 34,
      "outputs": []
    },
    {
      "cell_type": "code",
      "metadata": {
        "id": "t9HPCTmUjvvd",
        "colab": {
          "base_uri": "https://localhost:8080/"
        },
        "outputId": "a0d91548-6aa0-47d7-d4d8-f98c72bd8bff"
      },
      "source": [
        "#No. of unique words\n",
        "len(TEXT.vocab)"
      ],
      "execution_count": 35,
      "outputs": [
        {
          "output_type": "execute_result",
          "data": {
            "text/plain": [
              "12483"
            ]
          },
          "metadata": {
            "tags": []
          },
          "execution_count": 35
        }
      ]
    },
    {
      "cell_type": "code",
      "metadata": {
        "id": "BivXzGMDEUMv",
        "colab": {
          "base_uri": "https://localhost:8080/"
        },
        "outputId": "e2bdbcee-9e26-4ae5-bd63-45526e4d91c9"
      },
      "source": [
        "#word index\n",
        "list(TEXT.vocab.stoi.items())[:10]"
      ],
      "execution_count": 36,
      "outputs": [
        {
          "output_type": "execute_result",
          "data": {
            "text/plain": [
              "[('<unk>', 0),\n",
              " ('<pad>', 1),\n",
              " ('the', 2),\n",
              " ('i', 3),\n",
              " ('to', 4),\n",
              " ('a', 5),\n",
              " ('of', 6),\n",
              " ('is', 7),\n",
              " ('and', 8),\n",
              " ('in', 9)]"
            ]
          },
          "metadata": {
            "tags": []
          },
          "execution_count": 36
        }
      ]
    },
    {
      "cell_type": "markdown",
      "metadata": {
        "id": "gjvP5RUw97NX"
      },
      "source": [
        "\n",
        "***Note***: Two special tokens known as unknown and padding will be added to the vocabulary by default\n",
        "\n",
        "* **Unknown token** is used to handle Out Of Vocabulary words. By default, the index of unknown token is 0\n",
        "* **Padding token** is used to make input sequences of same length. By default, the padding token is added at index 1"
      ]
    },
    {
      "cell_type": "code",
      "metadata": {
        "id": "KH4Hr9bsHAD-"
      },
      "source": [
        "def fetch_text(examples):\n",
        "\n",
        "  text=[]\n",
        "  for example in examples:\n",
        "    query = vars(example)['query']\n",
        "    text.append(query)\n",
        "    \n",
        "  return text"
      ],
      "execution_count": 37,
      "outputs": []
    },
    {
      "cell_type": "code",
      "metadata": {
        "id": "fP6tbe1YXhcT"
      },
      "source": [
        "train_text = fetch_text(train_data)\n",
        "valid_text = fetch_text(valid_data)"
      ],
      "execution_count": 38,
      "outputs": []
    },
    {
      "cell_type": "code",
      "metadata": {
        "id": "JCmD_tscB8Tc"
      },
      "source": [
        "def convert2seq(text):\n",
        "  \n",
        "  #padding\n",
        "  text = TEXT.pad(text)\n",
        "  \n",
        "  #converting to numbers\n",
        "  text = TEXT.numericalize(text)\n",
        "  \n",
        "  return text"
      ],
      "execution_count": 39,
      "outputs": []
    },
    {
      "cell_type": "code",
      "metadata": {
        "id": "gy0jLpHk-gEy"
      },
      "source": [
        "X_train = convert2seq(train_text)\n",
        "X_valid = convert2seq(valid_text)"
      ],
      "execution_count": 40,
      "outputs": []
    },
    {
      "cell_type": "code",
      "metadata": {
        "id": "D9-AU-oUj9Uq",
        "colab": {
          "base_uri": "https://localhost:8080/"
        },
        "outputId": "015037af-fb75-402c-f4af-edd6bba302a9"
      },
      "source": [
        "X_train[0]"
      ],
      "execution_count": 41,
      "outputs": [
        {
          "output_type": "execute_result",
          "data": {
            "text/plain": [
              "tensor([    3,    17,     2,    15,    98,    33,    86,     3,   250,     4,\n",
              "          520,     2,    94,    40,    21,    50,   193,    74,   294,   635,\n",
              "           65,     9, 12271,     3,    17,   266,   283,    78,    26,  2481,\n",
              "         3593,    33,    13,     7,  1877,    12,   103,    21,  2365,  1163,\n",
              "           15,   276,   841,     6,    62,  9865,   460,     0,   460,     0,\n",
              "          460,     0,   460,     0,   460,     0,   927,  4131,   460, 12271,\n",
              "          460,     0,   460,     0,   460,     0,   460,     0,  8616,   286,\n",
              "          286,   286,   286,   286,   286,     0,   460, 10035,   460,   329,\n",
              "            7,    65,  1163,   286,    24,    15,   117,    32,  1374,    66,\n",
              "           65,    69,    70,   598,   681,   104,   681,  1163, 10035,     0])"
            ]
          },
          "metadata": {
            "tags": []
          },
          "execution_count": 41
        }
      ]
    },
    {
      "cell_type": "code",
      "metadata": {
        "id": "5_kAvrkbP6KU",
        "colab": {
          "base_uri": "https://localhost:8080/"
        },
        "outputId": "623bb76d-65ec-40a4-bd89-8e6c029ddd0a"
      },
      "source": [
        "X_train.shape, X_valid.shape"
      ],
      "execution_count": 42,
      "outputs": [
        {
          "output_type": "execute_result",
          "data": {
            "text/plain": [
              "(torch.Size([8885, 100]), torch.Size([2221, 100]))"
            ]
          },
          "metadata": {
            "tags": []
          },
          "execution_count": 42
        }
      ]
    },
    {
      "cell_type": "code",
      "metadata": {
        "colab": {
          "base_uri": "https://localhost:8080/"
        },
        "id": "Mu4kVtApwLxc",
        "outputId": "24a4a8c2-3b63-4cf5-bb8d-4e27bf1a14a1"
      },
      "source": [
        "train_data[0]"
      ],
      "execution_count": 43,
      "outputs": [
        {
          "output_type": "execute_result",
          "data": {
            "text/plain": [
              "<torchtext.legacy.data.example.Example at 0x7f1bc4d01d90>"
            ]
          },
          "metadata": {
            "tags": []
          },
          "execution_count": 43
        }
      ]
    },
    {
      "cell_type": "code",
      "metadata": {
        "id": "Vl_S6Ql2fwjh"
      },
      "source": [
        "def fetch_tags(data):\n",
        "  tags=[]\n",
        "  for example in data.examples:\n",
        "    tags.append(vars(example)['tags'])\n",
        "  return tags"
      ],
      "execution_count": 44,
      "outputs": []
    },
    {
      "cell_type": "code",
      "metadata": {
        "id": "2L4V-Zdwf1FT"
      },
      "source": [
        "train_tags = fetch_tags(train_data)\n",
        "valid_tags = fetch_tags(valid_data)"
      ],
      "execution_count": 45,
      "outputs": []
    },
    {
      "cell_type": "code",
      "metadata": {
        "id": "RwcyVXZE_1MW",
        "colab": {
          "base_uri": "https://localhost:8080/"
        },
        "outputId": "fa269109-c2f5-46c9-8639-d9b37d47fcc1"
      },
      "source": [
        "train_tags[:5]"
      ],
      "execution_count": 46,
      "outputs": [
        {
          "output_type": "execute_result",
          "data": {
            "text/plain": [
              "['r,logistic',\n",
              " 'machine learning,classification',\n",
              " 'r,time series',\n",
              " 'r,time series',\n",
              " 'probability,distributions']"
            ]
          },
          "metadata": {
            "tags": []
          },
          "execution_count": 46
        }
      ]
    },
    {
      "cell_type": "code",
      "metadata": {
        "id": "WmT2dgfvOaGw"
      },
      "source": [
        "#preparing the output labels \n",
        "train_tags_list=[i.split(\",\") for i in train_tags]\n",
        "valid_tags_list=[i.split(\",\") for i in valid_tags]"
      ],
      "execution_count": 47,
      "outputs": []
    },
    {
      "cell_type": "code",
      "metadata": {
        "id": "DWwlKMXc_R4S",
        "colab": {
          "base_uri": "https://localhost:8080/"
        },
        "outputId": "0ffa4dc1-bf7c-4c3c-fe31-18b8741cc72c"
      },
      "source": [
        "mlb= MultiLabelBinarizer()\n",
        "mlb.fit(train_tags_list)"
      ],
      "execution_count": 48,
      "outputs": [
        {
          "output_type": "execute_result",
          "data": {
            "text/plain": [
              "MultiLabelBinarizer(classes=None, sparse_output=False)"
            ]
          },
          "metadata": {
            "tags": []
          },
          "execution_count": 48
        }
      ]
    },
    {
      "cell_type": "code",
      "metadata": {
        "id": "yc4QfBrX_Ryl",
        "colab": {
          "base_uri": "https://localhost:8080/"
        },
        "outputId": "e59a1324-6a73-449c-fc85-1890f5572fc4"
      },
      "source": [
        "mlb.classes_"
      ],
      "execution_count": 49,
      "outputs": [
        {
          "output_type": "execute_result",
          "data": {
            "text/plain": [
              "array(['classification', 'distributions', 'hypothesis testing',\n",
              "       'logistic', 'machine learning', 'probability', 'r', 'regression',\n",
              "       'self study', 'time series'], dtype=object)"
            ]
          },
          "metadata": {
            "tags": []
          },
          "execution_count": 49
        }
      ]
    },
    {
      "cell_type": "code",
      "metadata": {
        "id": "t6bHhjjsO0oA"
      },
      "source": [
        "y_train  = mlb.transform(train_tags_list)\n",
        "y_valid  = mlb.transform(valid_tags_list)"
      ],
      "execution_count": 50,
      "outputs": []
    },
    {
      "cell_type": "code",
      "metadata": {
        "id": "RbhTziq7O0iT",
        "colab": {
          "base_uri": "https://localhost:8080/"
        },
        "outputId": "c86ab882-57c4-4a6d-d023-cadc703786f8"
      },
      "source": [
        "y_train.shape, y_valid.shape"
      ],
      "execution_count": 51,
      "outputs": [
        {
          "output_type": "execute_result",
          "data": {
            "text/plain": [
              "((8885, 10), (2221, 10))"
            ]
          },
          "metadata": {
            "tags": []
          },
          "execution_count": 51
        }
      ]
    },
    {
      "cell_type": "code",
      "metadata": {
        "id": "R1QdDTe1pKcY",
        "colab": {
          "base_uri": "https://localhost:8080/"
        },
        "outputId": "30ff5c1c-94e8-4f25-9fcb-c2f6a76d4d51"
      },
      "source": [
        "type(y_train)"
      ],
      "execution_count": 52,
      "outputs": [
        {
          "output_type": "execute_result",
          "data": {
            "text/plain": [
              "numpy.ndarray"
            ]
          },
          "metadata": {
            "tags": []
          },
          "execution_count": 52
        }
      ]
    },
    {
      "cell_type": "code",
      "metadata": {
        "id": "JS0y7u8MQNxf"
      },
      "source": [
        "y_train = torch.FloatTensor(y_train)\n",
        "y_valid = torch.FloatTensor(y_valid)"
      ],
      "execution_count": 53,
      "outputs": []
    },
    {
      "cell_type": "code",
      "metadata": {
        "id": "PnpswpTgQXuK",
        "colab": {
          "base_uri": "https://localhost:8080/"
        },
        "outputId": "2229e7d6-0dd5-4bc5-d8a1-8519929c1382"
      },
      "source": [
        "type(y_train)"
      ],
      "execution_count": 54,
      "outputs": [
        {
          "output_type": "execute_result",
          "data": {
            "text/plain": [
              "torch.Tensor"
            ]
          },
          "metadata": {
            "tags": []
          },
          "execution_count": 54
        }
      ]
    },
    {
      "cell_type": "markdown",
      "metadata": {
        "id": "f1QO2V5C1q0c"
      },
      "source": [
        "# 4. Model Building"
      ]
    },
    {
      "cell_type": "markdown",
      "metadata": {
        "id": "wwPA0UEV1sdy"
      },
      "source": [
        " ## 4.1 Model Architecture"
      ]
    },
    {
      "cell_type": "markdown",
      "metadata": {
        "id": "AohYMQDYjf5J"
      },
      "source": [
        "Prior to defining a RNN architecture, we will understand the how RNN layer is defined in pytorch, what are the input and output shapes of an RNN layer in PyTorch\n",
        "\n",
        "As you might remember, preprocessed text data is at first passed through Embedding Layer, then the output of this embedding layer is passed through the RNN layer\n",
        "\n",
        "Lets see what the parameters of Embedding Layer are\n",
        "\n",
        "* **num_embeddings**: Actual feature dimensions of input\n",
        "* **embedding_dim**: Number of embedding dimensions; this is set by the user"
      ]
    },
    {
      "cell_type": "code",
      "metadata": {
        "id": "I-Hu3YNxhx5Z"
      },
      "source": [
        "# define embedding layer\n",
        "emb = Embedding(num_embeddings=len(TEXT.vocab), embedding_dim=50)"
      ],
      "execution_count": 55,
      "outputs": []
    },
    {
      "cell_type": "code",
      "metadata": {
        "id": "jHL606DglJxs",
        "colab": {
          "base_uri": "https://localhost:8080/"
        },
        "outputId": "0edd19e9-6e44-4181-c05f-47bee96ec6e7"
      },
      "source": [
        "X_train[:1].shape"
      ],
      "execution_count": 56,
      "outputs": [
        {
          "output_type": "execute_result",
          "data": {
            "text/plain": [
              "torch.Size([1, 100])"
            ]
          },
          "metadata": {
            "tags": []
          },
          "execution_count": 56
        }
      ]
    },
    {
      "cell_type": "code",
      "metadata": {
        "id": "9qU_qVYah4sZ"
      },
      "source": [
        "# check sample input\n",
        "sample_embedding = emb(X_train[:1])"
      ],
      "execution_count": 57,
      "outputs": []
    },
    {
      "cell_type": "code",
      "metadata": {
        "id": "qRqMsYe_jJzW",
        "colab": {
          "base_uri": "https://localhost:8080/"
        },
        "outputId": "6571975a-7803-4583-bad8-6acee1dcfc25"
      },
      "source": [
        "sample_embedding.shape"
      ],
      "execution_count": 58,
      "outputs": [
        {
          "output_type": "execute_result",
          "data": {
            "text/plain": [
              "torch.Size([1, 100, 50])"
            ]
          },
          "metadata": {
            "tags": []
          },
          "execution_count": 58
        }
      ]
    },
    {
      "cell_type": "markdown",
      "metadata": {
        "id": "S1nf8tfeInil"
      },
      "source": [
        "In Pytorch, you can easily define RNN layers with same hyperparameters using the RNN module of torch.nn \n",
        "\n",
        "Parameters of RNN layer:\n",
        "\n",
        "* **input_size**: Number of inputs to the RNN\n",
        "* **hidden_size**: Number of neurons in RNN layer.\n",
        "* **batch_first**: Set first dimension to batch size\n",
        "* **nonlinearity**: Activation function on RNN layer"
      ]
    },
    {
      "cell_type": "code",
      "metadata": {
        "id": "7GNiEeVSzNqg"
      },
      "source": [
        "#define a rnn\n",
        "rnn = RNN(input_size=50, hidden_size=128, batch_first=True, nonlinearity='relu')"
      ],
      "execution_count": 59,
      "outputs": []
    },
    {
      "cell_type": "code",
      "metadata": {
        "id": "BWWNM7emrESx"
      },
      "source": [
        "#pass the input to rnn\n",
        "hidden_states,last_hidden_state = rnn(sample_embedding)"
      ],
      "execution_count": 60,
      "outputs": []
    },
    {
      "cell_type": "code",
      "metadata": {
        "id": "b2UOiZpIrEOV",
        "colab": {
          "base_uri": "https://localhost:8080/"
        },
        "outputId": "1dc356a7-cc3a-4189-fe64-dc5182695201"
      },
      "source": [
        "#Hidden state of every timestep (Batch, seq_len, no. of hidden neurons)\n",
        "hidden_states.shape"
      ],
      "execution_count": 61,
      "outputs": [
        {
          "output_type": "execute_result",
          "data": {
            "text/plain": [
              "torch.Size([1, 100, 128])"
            ]
          },
          "metadata": {
            "tags": []
          },
          "execution_count": 61
        }
      ]
    },
    {
      "cell_type": "code",
      "metadata": {
        "id": "5X-Sh0Hfsndv",
        "colab": {
          "base_uri": "https://localhost:8080/"
        },
        "outputId": "16559aab-5708-4da2-85ca-e5b55fe70dd2"
      },
      "source": [
        "#output shape of last hidden timestep\n",
        "last_hidden_state.shape"
      ],
      "execution_count": 62,
      "outputs": [
        {
          "output_type": "execute_result",
          "data": {
            "text/plain": [
              "torch.Size([1, 1, 128])"
            ]
          },
          "metadata": {
            "tags": []
          },
          "execution_count": 62
        }
      ]
    },
    {
      "cell_type": "code",
      "metadata": {
        "id": "_CR_ZH74oMKU",
        "colab": {
          "base_uri": "https://localhost:8080/"
        },
        "outputId": "9e5a62d5-8644-4d58-c542-40b909ee9315"
      },
      "source": [
        "#reshaping the hidden states\n",
        "reshaped = hidden_states.reshape(hidden_states.size(0),-1)\n",
        "reshaped.shape"
      ],
      "execution_count": 63,
      "outputs": [
        {
          "output_type": "execute_result",
          "data": {
            "text/plain": [
              "torch.Size([1, 12800])"
            ]
          },
          "metadata": {
            "tags": []
          },
          "execution_count": 63
        }
      ]
    },
    {
      "cell_type": "markdown",
      "metadata": {
        "id": "bNo2VuLb5Awl"
      },
      "source": [
        "# Model Architecture"
      ]
    },
    {
      "cell_type": "code",
      "metadata": {
        "id": "ODbQ-l7I5FX0"
      },
      "source": [
        "# Define Model Architecture\n",
        "\n",
        "# Input\n",
        "# Embedding(embedding_dim=100)\n",
        "# LSTM(128)\n",
        "# Linear(128, 'relu')\n",
        "# Linear(10, 'sigmoid')\n",
        "\n",
        "class Net(nn.Module):\n",
        "    \n",
        "    #Constructor\n",
        "    def __init__(self):\n",
        "\n",
        "        #Constructor\n",
        "        super(Net, self).__init__()   \n",
        "  \n",
        "        #rnn block\n",
        "        self.rnn_layer = Sequential(\n",
        "            \n",
        "            #embedding layer\n",
        "            Embedding(num_embeddings=len(TEXT.vocab), embedding_dim=100),\n",
        "        \n",
        "            #lstm layer\n",
        "            RNN(input_size=100, hidden_size=128,nonlinearity = 'relu' ,batch_first=True)\n",
        "          \n",
        "            )\n",
        "\n",
        "        #dense block\n",
        "        self.dense_layer = Sequential(\n",
        "            \n",
        "            Linear(12800,128),\n",
        "\n",
        "            ReLU(),\n",
        "\n",
        "            Linear(128,10),\n",
        "            \n",
        "            Sigmoid()\n",
        "\n",
        "        )\n",
        "    \n",
        "    #forward pass\n",
        "    def forward(self, x):\n",
        "        \n",
        "        #rnn layer\n",
        "        hidden_states, last_hidden_state = self.rnn_layer(x)\n",
        "\n",
        "        #flattening\n",
        "        hidden_states = hidden_states.reshape(hidden_states.size(0),-1)\n",
        "        \n",
        "        #dense layer\n",
        "        outputs=self.dense_layer(hidden_states)\n",
        "        \n",
        "        return outputs"
      ],
      "execution_count": 64,
      "outputs": []
    },
    {
      "cell_type": "code",
      "metadata": {
        "id": "0YJHLpi4Sv5j"
      },
      "source": [
        "#define the model\n",
        "model = Net()"
      ],
      "execution_count": 65,
      "outputs": []
    },
    {
      "cell_type": "code",
      "metadata": {
        "id": "L4U_4YfbSv_A",
        "colab": {
          "base_uri": "https://localhost:8080/"
        },
        "outputId": "77cc0e09-c227-477a-c02e-3e340484765d"
      },
      "source": [
        "#model layers\n",
        "model"
      ],
      "execution_count": 66,
      "outputs": [
        {
          "output_type": "execute_result",
          "data": {
            "text/plain": [
              "Net(\n",
              "  (rnn_layer): Sequential(\n",
              "    (0): Embedding(12483, 100)\n",
              "    (1): RNN(100, 128, batch_first=True)\n",
              "  )\n",
              "  (dense_layer): Sequential(\n",
              "    (0): Linear(in_features=12800, out_features=128, bias=True)\n",
              "    (1): ReLU()\n",
              "    (2): Linear(in_features=128, out_features=10, bias=True)\n",
              "    (3): Sigmoid()\n",
              "  )\n",
              ")"
            ]
          },
          "metadata": {
            "tags": []
          },
          "execution_count": 66
        }
      ]
    },
    {
      "cell_type": "code",
      "metadata": {
        "id": "D06A21xv6JaN",
        "colab": {
          "base_uri": "https://localhost:8080/"
        },
        "outputId": "65b35d33-401d-425c-a5fb-45710ebedf9c"
      },
      "source": [
        "#pass an text to the model to understand the output\n",
        "#deactivates autograd\n",
        "with torch.no_grad():\n",
        "  pred = model(X_train[:1])\n",
        "  print(pred)"
      ],
      "execution_count": 67,
      "outputs": [
        {
          "output_type": "stream",
          "text": [
            "tensor([[0.5516, 0.5045, 0.4828, 0.4306, 0.4964, 0.5251, 0.5229, 0.5186, 0.5074,\n",
            "         0.5131]])\n"
          ],
          "name": "stdout"
        }
      ]
    },
    {
      "cell_type": "code",
      "metadata": {
        "id": "liHnnKIFjmRj"
      },
      "source": [
        "#define optimizer and loss\n",
        "optimizer = torch.optim.Adam(model.parameters())\n",
        "criterion = BCELoss()\n",
        "\n",
        "# checking if GPU is available\n",
        "if torch.cuda.is_available():\n",
        "    model = model.cuda()\n",
        "    criterion = criterion.cuda()"
      ],
      "execution_count": 68,
      "outputs": []
    },
    {
      "cell_type": "markdown",
      "metadata": {
        "id": "LleGoa8918PF"
      },
      "source": [
        "## 4.2 Model Training"
      ]
    },
    {
      "cell_type": "code",
      "metadata": {
        "id": "p_v08HY6Sv84"
      },
      "source": [
        "# define training function\n",
        "def train(X,y,batch_size):\n",
        "\n",
        "  #activate training phase\n",
        "  model.train()\n",
        "  \n",
        "  #initialization\n",
        "  epoch_loss= 0\n",
        "  no_of_batches = 0\n",
        "\n",
        "  #randomly create indices\n",
        "  indices= torch.randperm(len(X))\n",
        "  \n",
        "  #loading in batches\n",
        "  for i in range(0,len(indices),batch_size):\n",
        "    \n",
        "    #indices for a batch\n",
        "    ind = indices[i:i+batch_size]\n",
        "  \n",
        "    #batch  \n",
        "    batch_x=X[ind]\n",
        "    batch_y=y[ind]\n",
        "    \n",
        "    #push to cuda\n",
        "    if torch.cuda.is_available():\n",
        "        batch_x, batch_y = batch_x.cuda(), batch_y.cuda()\n",
        "\n",
        "    #clear gradients\n",
        "    optimizer.zero_grad()\n",
        "          \n",
        "    #forward pass\n",
        "    outputs = model(batch_x)\n",
        "\n",
        "    #converting to a 1 dimensional tensor\n",
        "    outputs = outputs.squeeze()\n",
        "\n",
        "    #calculate loss and accuracy\n",
        "    loss = criterion(outputs, batch_y)\n",
        "    \n",
        "    #Backward pass\n",
        "    loss.backward()\n",
        "    \n",
        "    #Update weights\n",
        "    optimizer.step()\n",
        "\n",
        "    #Keep track of the loss and accuracy of a epoch\n",
        "    epoch_loss = epoch_loss + loss.item()\n",
        "\n",
        "    #No. of batches\n",
        "    no_of_batches = no_of_batches+1\n",
        "\n",
        "  return epoch_loss/no_of_batches"
      ],
      "execution_count": 69,
      "outputs": []
    },
    {
      "cell_type": "code",
      "metadata": {
        "id": "FeCtfkgoSvx8"
      },
      "source": [
        "# define evaluation function\n",
        "def evaluate(X,y,batch_size):\n",
        "\n",
        "  #deactivate training phase\n",
        "  model.eval()\n",
        "\n",
        "  #initialization\n",
        "  epoch_loss = 0\n",
        "  no_of_batches = 0\n",
        "\n",
        "  #randomly create indices\n",
        "  indices= torch.randperm(len(X))\n",
        "\n",
        "  #deactivates autograd\n",
        "  with torch.no_grad():\n",
        "    \n",
        "    #loading in batches\n",
        "    for i in range(0,len(indices),batch_size):\n",
        "      \n",
        "      #indices for a batch\n",
        "      ind = indices[i:i+batch_size]\n",
        "  \n",
        "      #batch  \n",
        "      batch_x= X[ind]\n",
        "      batch_y= y[ind]\n",
        "\n",
        "      #push to cuda\n",
        "      if torch.cuda.is_available():\n",
        "          batch_x, batch_y = batch_x.cuda(), batch_y.cuda()\n",
        "        \n",
        "      #Forward pass\n",
        "      outputs = model(batch_x)\n",
        "\n",
        "      #converting the output to 1 Dimensional tensor\n",
        "      outputs = outputs.squeeze()\n",
        "\n",
        "      # Calculate loss and accuracy\n",
        "      loss = criterion(outputs, batch_y)\n",
        "      \n",
        "      #keep track of loss and accuracy of an epoch\n",
        "      epoch_loss = epoch_loss + loss.item()\n",
        "\n",
        "      #no. of batches\n",
        "      no_of_batches = no_of_batches + 1\n",
        "\n",
        "    return epoch_loss/no_of_batches"
      ],
      "execution_count": 70,
      "outputs": []
    },
    {
      "cell_type": "code",
      "metadata": {
        "id": "73CuJpFUYvDM"
      },
      "source": [
        "# define prediction function\n",
        "def predict(X,batch_size):\n",
        "  \n",
        "  #deactivate training phase\n",
        "  model.eval()\n",
        "\n",
        "  # initialization \n",
        "  predictions = []\n",
        "\n",
        "  # create indices\n",
        "  indices = torch.arange(len(X))\n",
        "\n",
        "  #deactivates autograd\n",
        "  with torch.no_grad():\n",
        "      \n",
        "      for i in range(0, len(X), batch_size):\n",
        "        \n",
        "        #indices for a batch\n",
        "        ind = indices[i:i+batch_size]\n",
        "\n",
        "        # batch\n",
        "        batch_x = X[ind]\n",
        "\n",
        "        #push to cuda\n",
        "        if torch.cuda.is_available():\n",
        "            batch_x = batch_x.cuda()\n",
        "\n",
        "        #Forward pass\n",
        "        outputs = model(batch_x)\n",
        "\n",
        "        #converting the output to 1 Dimensional tensor\n",
        "        outputs = outputs.squeeze()\n",
        "\n",
        "        # convert to numpy array\n",
        "        prediction = outputs.data.cpu().numpy()\n",
        "        predictions.append(prediction)\n",
        "    \n",
        "  # convert to single numpy array\n",
        "  predictions = np.concatenate(predictions, axis=0)\n",
        "    \n",
        "  return predictions"
      ],
      "execution_count": 71,
      "outputs": []
    },
    {
      "cell_type": "code",
      "metadata": {
        "id": "Z5bch29mSve6",
        "colab": {
          "base_uri": "https://localhost:8080/"
        },
        "outputId": "2047cb2d-cefc-460f-c2d0-cd824f0daa33"
      },
      "source": [
        "N_EPOCHS = 10\n",
        "batch_size = 32\n",
        "\n",
        "# intialization\n",
        "best_valid_loss = float('inf')\n",
        "\n",
        "for epoch in range(N_EPOCHS):\n",
        "     \n",
        "    #train the model\n",
        "    train_loss   = train(X_train, y_train, batch_size)\n",
        "    \n",
        "    #evaluate the model\n",
        "    valid_loss   = evaluate(X_valid, y_valid, batch_size)\n",
        "\n",
        "    print('\\nEpoch :',epoch,\n",
        "          'Training loss:',round(train_loss,4),\n",
        "          '\\tValidation loss:',round(valid_loss,4))\n",
        "\n",
        "    #save the best model\n",
        "    if best_valid_loss >= valid_loss:\n",
        "        best_valid_loss = valid_loss\n",
        "        torch.save(model.state_dict(), '/content/drive/MyDrive/RNN/Dataset/Rnn_saved_weights.pt') \n",
        "        print(\"\\n----------------------------------------------------Saved best model------------------------------------------------------------------\")   "
      ],
      "execution_count": 72,
      "outputs": [
        {
          "output_type": "stream",
          "text": [
            "\n",
            "Epoch : 0 Training loss: 0.4063 \tValidation loss: 0.3461\n",
            "\n",
            "----------------------------------------------------Saved best model------------------------------------------------------------------\n",
            "\n",
            "Epoch : 1 Training loss: 0.2656 \tValidation loss: 0.3175\n",
            "\n",
            "----------------------------------------------------Saved best model------------------------------------------------------------------\n",
            "\n",
            "Epoch : 2 Training loss: 0.1629 \tValidation loss: 0.3735\n",
            "\n",
            "Epoch : 3 Training loss: 0.0722 \tValidation loss: 0.4625\n",
            "\n",
            "Epoch : 4 Training loss: 0.0246 \tValidation loss: 0.5928\n",
            "\n",
            "Epoch : 5 Training loss: 0.0078 \tValidation loss: 0.6917\n",
            "\n",
            "Epoch : 6 Training loss: 0.0032 \tValidation loss: 0.7864\n",
            "\n",
            "Epoch : 7 Training loss: 0.0017 \tValidation loss: 0.8658\n",
            "\n",
            "Epoch : 8 Training loss: 0.0009 \tValidation loss: 0.9208\n",
            "\n",
            "Epoch : 9 Training loss: 0.0009 \tValidation loss: 0.9492\n"
          ],
          "name": "stdout"
        }
      ]
    },
    {
      "cell_type": "markdown",
      "metadata": {
        "id": "iPD3sYkO2C8k"
      },
      "source": [
        "# 5. Model Evaluation"
      ]
    },
    {
      "cell_type": "markdown",
      "metadata": {
        "id": "45blbQAZ2M8O"
      },
      "source": [
        "## 5.1 Check Performance"
      ]
    },
    {
      "cell_type": "markdown",
      "metadata": {
        "id": "Do5YNpepVXE3"
      },
      "source": [
        "Load the best model weights and now, the model is ready for the predictions"
      ]
    },
    {
      "cell_type": "code",
      "metadata": {
        "id": "Gdj5mP2EYZVz",
        "colab": {
          "base_uri": "https://localhost:8080/"
        },
        "outputId": "a6f3ce25-707e-4d65-86d8-abf81f91b34b"
      },
      "source": [
        "#load weights of best model\n",
        "path='/content/drive/MyDrive/RNN/Dataset/Rnn_saved_weights.pt'\n",
        "model.load_state_dict(torch.load(path))"
      ],
      "execution_count": 73,
      "outputs": [
        {
          "output_type": "execute_result",
          "data": {
            "text/plain": [
              "<All keys matched successfully>"
            ]
          },
          "metadata": {
            "tags": []
          },
          "execution_count": 73
        }
      ]
    },
    {
      "cell_type": "code",
      "metadata": {
        "id": "AbV0Y8dXYsv2"
      },
      "source": [
        "#predict probabilities\n",
        "y_pred_prob = predict(X_valid, batch_size)"
      ],
      "execution_count": 74,
      "outputs": []
    },
    {
      "cell_type": "code",
      "metadata": {
        "id": "0_K7FERpSvZL",
        "colab": {
          "base_uri": "https://localhost:8080/"
        },
        "outputId": "230c5f37-c758-4032-c302-bd4929e7bcbd"
      },
      "source": [
        "y_pred_prob[0]"
      ],
      "execution_count": 75,
      "outputs": [
        {
          "output_type": "execute_result",
          "data": {
            "text/plain": [
              "array([3.0276144e-04, 6.0877967e-01, 6.0333941e-02, 2.1089831e-02,\n",
              "       4.6924246e-03, 9.7227216e-02, 3.7409562e-01, 8.9055330e-01,\n",
              "       4.0800026e-01, 2.8352026e-02], dtype=float32)"
            ]
          },
          "metadata": {
            "tags": []
          },
          "execution_count": 75
        }
      ]
    },
    {
      "cell_type": "code",
      "metadata": {
        "id": "AdpKdmTvbEeu"
      },
      "source": [
        "#actual tags\n",
        "y_true = y_valid.cpu().numpy()"
      ],
      "execution_count": 76,
      "outputs": []
    },
    {
      "cell_type": "markdown",
      "metadata": {
        "id": "Q_8v15zo_9D0"
      },
      "source": [
        "The predictions are in terms of probabilities for each of the 10 tags. Hence we need to have a threshold value to convert these probabilities to 0 or 1. Let's specify a set of candidate threshold values. We will select the threshold value that performs the best for the validation set."
      ]
    },
    {
      "cell_type": "code",
      "metadata": {
        "id": "eoyr5wlbSmfI",
        "colab": {
          "base_uri": "https://localhost:8080/"
        },
        "outputId": "c18aa359-c340-47bf-b601-f2a1cddd03b5"
      },
      "source": [
        "#define candidate threshold values\n",
        "threshold  = np.arange(0,0.5,0.01)\n",
        "print(threshold)"
      ],
      "execution_count": 77,
      "outputs": [
        {
          "output_type": "stream",
          "text": [
            "[0.   0.01 0.02 0.03 0.04 0.05 0.06 0.07 0.08 0.09 0.1  0.11 0.12 0.13\n",
            " 0.14 0.15 0.16 0.17 0.18 0.19 0.2  0.21 0.22 0.23 0.24 0.25 0.26 0.27\n",
            " 0.28 0.29 0.3  0.31 0.32 0.33 0.34 0.35 0.36 0.37 0.38 0.39 0.4  0.41\n",
            " 0.42 0.43 0.44 0.45 0.46 0.47 0.48 0.49]\n"
          ],
          "name": "stdout"
        }
      ]
    },
    {
      "cell_type": "markdown",
      "metadata": {
        "id": "G39D2TISVhfO"
      },
      "source": [
        "Let's define a function that takes a threshold value and uses it to convert probabilities into 1 or 0."
      ]
    },
    {
      "cell_type": "code",
      "metadata": {
        "id": "bvcm8hxPSb3e"
      },
      "source": [
        "# convert probabilities into classes or tags based on a threshold value\n",
        "def classify(y_pred_prob, thresh):\n",
        "  \n",
        "  y_pred = []\n",
        "\n",
        "  for i in y_pred_prob:\n",
        "    temp=[]\n",
        "      \n",
        "    for j in i:\n",
        "      if j>=thresh:\n",
        "        temp.append(1)\n",
        "      else:\n",
        "        temp.append(0)\n",
        "    \n",
        "    y_pred.append(temp)\n",
        "\n",
        "  return np.array(y_pred)"
      ],
      "execution_count": 78,
      "outputs": []
    },
    {
      "cell_type": "markdown",
      "metadata": {
        "id": "WaH6P-FHhf2Z"
      },
      "source": [
        "We will evaluate the performance of model for each candidate threshold"
      ]
    },
    {
      "cell_type": "code",
      "metadata": {
        "id": "gG8OFwSuSb0m"
      },
      "source": [
        "score=[]\n",
        "\n",
        "for thresh in threshold:\n",
        "    \n",
        "    #classes for each threshold\n",
        "    y_pred = classify(y_pred_prob, thresh) \n",
        "\n",
        "    #convert to 1d array\n",
        "    y_pred_1d    =  y_pred.ravel()\n",
        "    y_true_1d    =  y_true.ravel()\n",
        " \n",
        "    score.append(metrics.f1_score(y_true_1d, y_pred_1d))"
      ],
      "execution_count": 79,
      "outputs": []
    },
    {
      "cell_type": "code",
      "metadata": {
        "id": "XBZxqkmSR_8i",
        "colab": {
          "base_uri": "https://localhost:8080/"
        },
        "outputId": "0d984edc-05ab-4238-ac39-1256e28f5fb8"
      },
      "source": [
        "# find the optimal threshold\n",
        "opt = threshold[score.index(max(score))]\n",
        "print(opt)"
      ],
      "execution_count": 80,
      "outputs": [
        {
          "output_type": "stream",
          "text": [
            "0.29\n"
          ],
          "name": "stdout"
        }
      ]
    },
    {
      "cell_type": "code",
      "metadata": {
        "id": "eD2l-uNwR7o3"
      },
      "source": [
        "#predictions for optimal threshold\n",
        "y_pred = classify(y_pred_prob, opt)"
      ],
      "execution_count": 81,
      "outputs": []
    },
    {
      "cell_type": "code",
      "metadata": {
        "id": "MdHB_HaJR7m2",
        "colab": {
          "base_uri": "https://localhost:8080/"
        },
        "outputId": "795f332f-2309-43ff-e1c6-15867f9db75b"
      },
      "source": [
        "#converting to 1D\n",
        "y_pred_1d = y_pred.ravel()\n",
        "\n",
        "#Classification report\n",
        "print(metrics.classification_report(y_true_1d, y_pred_1d))"
      ],
      "execution_count": 82,
      "outputs": [
        {
          "output_type": "stream",
          "text": [
            "              precision    recall  f1-score   support\n",
            "\n",
            "         0.0       0.92      0.89      0.90     17478\n",
            "         1.0       0.63      0.73      0.68      4732\n",
            "\n",
            "    accuracy                           0.85     22210\n",
            "   macro avg       0.78      0.81      0.79     22210\n",
            "weighted avg       0.86      0.85      0.86     22210\n",
            "\n"
          ],
          "name": "stdout"
        }
      ]
    },
    {
      "cell_type": "code",
      "metadata": {
        "id": "YY-z8S42XTBB",
        "colab": {
          "base_uri": "https://localhost:8080/",
          "height": 0
        },
        "outputId": "c84c4c0f-985d-4233-9445-a34bc37fe150"
      },
      "source": [
        "#convert back to tags\n",
        "y_pred_label = mlb.inverse_transform(np.array(y_pred))\n",
        "y_true_label = mlb.inverse_transform(np.array(y_true))\n",
        "\n",
        "# get all validation text\n",
        "queries = [\" \".join(i) for i in valid_text]\n",
        "\n",
        "# create a dataframe to show the data and prediction side by side\n",
        "df = pd.DataFrame({'Questions':queries,'Actual Tags':y_true_label,'Predicted Tags':y_pred_label})\n",
        "\n",
        "# print first five rows\n",
        "df.head()"
      ],
      "execution_count": 83,
      "outputs": [
        {
          "output_type": "execute_result",
          "data": {
            "text/html": [
              "<div>\n",
              "<style scoped>\n",
              "    .dataframe tbody tr th:only-of-type {\n",
              "        vertical-align: middle;\n",
              "    }\n",
              "\n",
              "    .dataframe tbody tr th {\n",
              "        vertical-align: top;\n",
              "    }\n",
              "\n",
              "    .dataframe thead th {\n",
              "        text-align: right;\n",
              "    }\n",
              "</style>\n",
              "<table border=\"1\" class=\"dataframe\">\n",
              "  <thead>\n",
              "    <tr style=\"text-align: right;\">\n",
              "      <th></th>\n",
              "      <th>Questions</th>\n",
              "      <th>Actual Tags</th>\n",
              "      <th>Predicted Tags</th>\n",
              "    </tr>\n",
              "  </thead>\n",
              "  <tbody>\n",
              "    <tr>\n",
              "      <th>0</th>\n",
              "      <td>consider the following model y if g x beta u and y otherwise where u is iid according to some distribution function f i want to recover the distribution f without making too many assumptions that ...</td>\n",
              "      <td>(logistic, regression)</td>\n",
              "      <td>(distributions, r, regression, self study)</td>\n",
              "    </tr>\n",
              "    <tr>\n",
              "      <th>1</th>\n",
              "      <td>i am encountering the following problems and i don t really know which model a should pick all model selection criteria indicate that i should take the model with lag after building the var model ...</td>\n",
              "      <td>(hypothesis testing, time series)</td>\n",
              "      <td>(hypothesis testing, r, regression, time series)</td>\n",
              "    </tr>\n",
              "    <tr>\n",
              "      <th>2</th>\n",
              "      <td>basically i m attempting to recreate the results of an example from class in r what i m trying to do is decide whether it s best to use a single regression line for an entire data set or two lines...</td>\n",
              "      <td>(r, regression)</td>\n",
              "      <td>(r, regression)</td>\n",
              "    </tr>\n",
              "    <tr>\n",
              "      <th>3</th>\n",
              "      <td>in general i standardize my independent variables in regressions in order to properly compare the coefficients this way they have the same units standard deviations however with panel longitudinal...</td>\n",
              "      <td>(r, regression)</td>\n",
              "      <td>(r, regression)</td>\n",
              "    </tr>\n",
              "    <tr>\n",
              "      <th>4</th>\n",
              "      <td>let v to be forecasted value for periods through t and v t be its forecasted value at time t we express v t as the sum of two terms its mean at time t and its deviation from the mean at time t eps...</td>\n",
              "      <td>(r, time series)</td>\n",
              "      <td>(r, regression, time series)</td>\n",
              "    </tr>\n",
              "  </tbody>\n",
              "</table>\n",
              "</div>"
            ],
            "text/plain": [
              "                                                                                                                                                                                                 Questions  ...                                    Predicted Tags\n",
              "0  consider the following model y if g x beta u and y otherwise where u is iid according to some distribution function f i want to recover the distribution f without making too many assumptions that ...  ...        (distributions, r, regression, self study)\n",
              "1  i am encountering the following problems and i don t really know which model a should pick all model selection criteria indicate that i should take the model with lag after building the var model ...  ...  (hypothesis testing, r, regression, time series)\n",
              "2  basically i m attempting to recreate the results of an example from class in r what i m trying to do is decide whether it s best to use a single regression line for an entire data set or two lines...  ...                                   (r, regression)\n",
              "3  in general i standardize my independent variables in regressions in order to properly compare the coefficients this way they have the same units standard deviations however with panel longitudinal...  ...                                   (r, regression)\n",
              "4  let v to be forecasted value for periods through t and v t be its forecasted value at time t we express v t as the sum of two terms its mean at time t and its deviation from the mean at time t eps...  ...                      (r, regression, time series)\n",
              "\n",
              "[5 rows x 3 columns]"
            ]
          },
          "metadata": {
            "tags": []
          },
          "execution_count": 83
        }
      ]
    },
    {
      "cell_type": "markdown",
      "metadata": {
        "id": "Ib-fPuHqx2cu"
      },
      "source": [
        "## 5.2 Show Inference"
      ]
    },
    {
      "cell_type": "code",
      "metadata": {
        "id": "x-xFfFHVdVz5"
      },
      "source": [
        "#raw text\n",
        "text = \"For example, in the case of logistic regression, the learning function is a Sigmoid function that tries to separate the 2 classes\""
      ],
      "execution_count": 84,
      "outputs": []
    },
    {
      "cell_type": "code",
      "metadata": {
        "id": "BzCbTh8_dWJa",
        "colab": {
          "base_uri": "https://localhost:8080/"
        },
        "outputId": "34b6f392-5532-4b3f-93dd-e201f4af35b9"
      },
      "source": [
        "#cleaning text\n",
        "tokens = cleaner(text)\n",
        "tokens[:5]"
      ],
      "execution_count": 85,
      "outputs": [
        {
          "output_type": "execute_result",
          "data": {
            "text/plain": [
              "['for', 'example', 'in', 'the', 'case']"
            ]
          },
          "metadata": {
            "tags": []
          },
          "execution_count": 85
        }
      ]
    },
    {
      "cell_type": "code",
      "metadata": {
        "id": "gqoqyJVtfUbP",
        "colab": {
          "base_uri": "https://localhost:8080/"
        },
        "outputId": "f07256a8-4e87-490f-b280-aba0fdc6021b"
      },
      "source": [
        "#first argument to the model is no. of samples\n",
        "tokens = np.array(tokens).reshape(-1,len(tokens))\n",
        "tokens.shape"
      ],
      "execution_count": 86,
      "outputs": [
        {
          "output_type": "execute_result",
          "data": {
            "text/plain": [
              "(1, 21)"
            ]
          },
          "metadata": {
            "tags": []
          },
          "execution_count": 86
        }
      ]
    },
    {
      "cell_type": "code",
      "metadata": {
        "id": "2Tb27oqsdWGH",
        "colab": {
          "base_uri": "https://localhost:8080/"
        },
        "outputId": "53cae942-1337-451d-8635-268eb8a1b932"
      },
      "source": [
        "#converting text to integer sequences\n",
        "seq = convert2seq(tokens)\n",
        "seq"
      ],
      "execution_count": 87,
      "outputs": [
        {
          "output_type": "execute_result",
          "data": {
            "text/plain": [
              "tensor([[  12,  107,    9,    2,  151,    6,   94,   40,    2,  226,   74,    7,\n",
              "            5, 1570,   74,   13, 2927,    4,  960,    2,  373,    1,    1,    1,\n",
              "            1,    1,    1,    1,    1,    1,    1,    1,    1,    1,    1,    1,\n",
              "            1,    1,    1,    1,    1,    1,    1,    1,    1,    1,    1,    1,\n",
              "            1,    1,    1,    1,    1,    1,    1,    1,    1,    1,    1,    1,\n",
              "            1,    1,    1,    1,    1,    1,    1,    1,    1,    1,    1,    1,\n",
              "            1,    1,    1,    1,    1,    1,    1,    1,    1,    1,    1,    1,\n",
              "            1,    1,    1,    1,    1,    1,    1,    1,    1,    1,    1,    1,\n",
              "            1,    1,    1,    1]])"
            ]
          },
          "metadata": {
            "tags": []
          },
          "execution_count": 87
        }
      ]
    },
    {
      "cell_type": "code",
      "metadata": {
        "id": "c49lZSl4dWDE",
        "colab": {
          "base_uri": "https://localhost:8080/"
        },
        "outputId": "0752667f-c2c1-4382-f282-ca7b4b0e052d"
      },
      "source": [
        "#predictions\n",
        "with torch.no_grad():\n",
        "  if torch.cuda.is_available():\n",
        "    seq = seq.cuda()\n",
        "  pred_prob= model(seq)\n",
        "  print(pred_prob)"
      ],
      "execution_count": 88,
      "outputs": [
        {
          "output_type": "stream",
          "text": [
            "tensor([[0.2044, 0.0063, 0.0554, 0.9320, 0.2694, 0.0372, 0.2886, 0.5330, 0.0141,\n",
            "         0.0117]], device='cuda:0')\n"
          ],
          "name": "stdout"
        }
      ]
    },
    {
      "cell_type": "code",
      "metadata": {
        "id": "ZeH965i2dVud",
        "colab": {
          "base_uri": "https://localhost:8080/"
        },
        "outputId": "06209c34-8a89-4c95-e06a-cac13a31989a"
      },
      "source": [
        "#classify\n",
        "pred = classify(pred_prob,opt)\n",
        "pred"
      ],
      "execution_count": 89,
      "outputs": [
        {
          "output_type": "execute_result",
          "data": {
            "text/plain": [
              "array([[0, 0, 0, 1, 0, 0, 0, 1, 0, 0]])"
            ]
          },
          "metadata": {
            "tags": []
          },
          "execution_count": 89
        }
      ]
    },
    {
      "cell_type": "code",
      "metadata": {
        "id": "qCf__xiIfFU9",
        "colab": {
          "base_uri": "https://localhost:8080/"
        },
        "outputId": "7d0024c8-7077-408b-9d2a-bad6a5ce23d2"
      },
      "source": [
        "tags  = mlb.inverse_transform(pred)[0]\n",
        "tags"
      ],
      "execution_count": 90,
      "outputs": [
        {
          "output_type": "execute_result",
          "data": {
            "text/plain": [
              "('logistic', 'regression')"
            ]
          },
          "metadata": {
            "tags": []
          },
          "execution_count": 90
        }
      ]
    },
    {
      "cell_type": "code",
      "metadata": {
        "id": "Nk_3cC8tfFdy"
      },
      "source": [
        "def predict_tags(text):\n",
        "  \n",
        "  tokens = cleaner(text)\n",
        "  \n",
        "  tokens = np.array(tokens).reshape(-1,len(tokens))\n",
        "  \n",
        "  seq = convert2seq(tokens)\n",
        "  \n",
        "  with torch.no_grad():\n",
        "    if torch.cuda.is_available():\n",
        "      seq = seq.cuda()\n",
        "\n",
        "  pred_prob= model(seq)\n",
        "  pred = classify(pred_prob,opt)\n",
        "  \n",
        "  tags  = mlb.inverse_transform(pred)[0]\n",
        "  \n",
        "  return tags"
      ],
      "execution_count": 91,
      "outputs": []
    },
    {
      "cell_type": "code",
      "metadata": {
        "id": "B0Jxz5kmeyEm",
        "colab": {
          "base_uri": "https://localhost:8080/"
        },
        "outputId": "218b8947-06f2-44e1-f53c-e076a6b97cbc"
      },
      "source": [
        "text = \"For example, in the case of logistic regression, the learning function is a Sigmoid function that tries to separate the 2 classes\"\n",
        "\n",
        "tags = predict_tags(text)\n",
        "print(\"Query: \", text)\n",
        "print(\"Predicted tags:\",tags)"
      ],
      "execution_count": 92,
      "outputs": [
        {
          "output_type": "stream",
          "text": [
            "Query:  For example, in the case of logistic regression, the learning function is a Sigmoid function that tries to separate the 2 classes\n",
            "Predicted tags: ('logistic', 'regression')\n"
          ],
          "name": "stdout"
        }
      ]
    },
    {
      "cell_type": "markdown",
      "metadata": {
        "id": "8cN7_48hWIGA"
      },
      "source": [
        "# 6. Model Building for LSTM"
      ]
    },
    {
      "cell_type": "markdown",
      "metadata": {
        "id": "oVOOA6rFq7jc"
      },
      "source": [
        "In Pytorch, you can easily define LSTM layer using the LSTM module of torch.nn \n",
        "\n",
        "Parameters of LSTM layer:\n",
        "\n",
        "* **input_size**: Number of inputs to the LSTM\n",
        "* **hidden_size**: Number of neurons in LSTM layer.\n",
        "* **batch_first**: Set first dimension to batch size"
      ]
    },
    {
      "cell_type": "code",
      "metadata": {
        "id": "_QazqtX4Fc-c",
        "colab": {
          "base_uri": "https://localhost:8080/"
        },
        "outputId": "bea03afa-a053-4b92-de57-05f9aabfde04"
      },
      "source": [
        "sample_embedding.shape"
      ],
      "execution_count": 93,
      "outputs": [
        {
          "output_type": "execute_result",
          "data": {
            "text/plain": [
              "torch.Size([1, 100, 50])"
            ]
          },
          "metadata": {
            "tags": []
          },
          "execution_count": 93
        }
      ]
    },
    {
      "cell_type": "code",
      "metadata": {
        "id": "BQdkmPaPrfXK"
      },
      "source": [
        "#define an LSTM\n",
        "lstm_layer = LSTM(input_size=50, hidden_size=128, batch_first=True)"
      ],
      "execution_count": 94,
      "outputs": []
    },
    {
      "cell_type": "code",
      "metadata": {
        "id": "8ZfiG6PQ-6HI"
      },
      "source": [
        "#pass the input to LSTM\n",
        "hidden_states, (last_hidden_state,last_cell_state) = lstm_layer(sample_embedding)"
      ],
      "execution_count": 95,
      "outputs": []
    },
    {
      "cell_type": "code",
      "metadata": {
        "id": "_iipOXzw_Gss",
        "colab": {
          "base_uri": "https://localhost:8080/"
        },
        "outputId": "72aacd1e-d281-4477-a882-d66a696dd7df"
      },
      "source": [
        "#Hidden state of every timestep (Batch, seq_len, no. of hidden neurons)\n",
        "hidden_states.shape"
      ],
      "execution_count": 96,
      "outputs": [
        {
          "output_type": "execute_result",
          "data": {
            "text/plain": [
              "torch.Size([1, 100, 128])"
            ]
          },
          "metadata": {
            "tags": []
          },
          "execution_count": 96
        }
      ]
    },
    {
      "cell_type": "code",
      "metadata": {
        "id": "drJDL9gB_Iq7",
        "colab": {
          "base_uri": "https://localhost:8080/"
        },
        "outputId": "bd4adaa7-985d-420d-a8f2-98f4a39a3bae"
      },
      "source": [
        "#output shape of last hidden timestep\n",
        "last_hidden_state.shape"
      ],
      "execution_count": 97,
      "outputs": [
        {
          "output_type": "execute_result",
          "data": {
            "text/plain": [
              "torch.Size([1, 1, 128])"
            ]
          },
          "metadata": {
            "tags": []
          },
          "execution_count": 97
        }
      ]
    },
    {
      "cell_type": "code",
      "metadata": {
        "id": "0WB6t5Dl_aoI",
        "colab": {
          "base_uri": "https://localhost:8080/"
        },
        "outputId": "baf841e8-afe4-4205-d9bd-bbc2cf657b0d"
      },
      "source": [
        "#output shape of last cell state\n",
        "last_cell_state.shape"
      ],
      "execution_count": 98,
      "outputs": [
        {
          "output_type": "execute_result",
          "data": {
            "text/plain": [
              "torch.Size([1, 1, 128])"
            ]
          },
          "metadata": {
            "tags": []
          },
          "execution_count": 98
        }
      ]
    },
    {
      "cell_type": "code",
      "metadata": {
        "id": "zO_vOTns_KNW",
        "colab": {
          "base_uri": "https://localhost:8080/"
        },
        "outputId": "4c18e88f-0b0b-4695-cd1c-cc7316e7023b"
      },
      "source": [
        "#reshaping the hidden states\n",
        "reshaped = hidden_states.reshape(hidden_states.size(0),-1)\n",
        "reshaped.shape"
      ],
      "execution_count": 99,
      "outputs": [
        {
          "output_type": "execute_result",
          "data": {
            "text/plain": [
              "torch.Size([1, 12800])"
            ]
          },
          "metadata": {
            "tags": []
          },
          "execution_count": 99
        }
      ]
    },
    {
      "cell_type": "code",
      "metadata": {
        "id": "9pOsmRHSQYuN"
      },
      "source": [
        "# Define Model Architecture\n",
        "\n",
        "# Input\n",
        "# Embedding(embedding_dim=100)\n",
        "# LSTM(128)\n",
        "# Linear(128, 'relu')\n",
        "# Linear(10, 'sigmoid')\n",
        "\n",
        "class Net(nn.Module):\n",
        "    \n",
        "    #Constructor\n",
        "    def __init__(self):\n",
        "\n",
        "        #Constructor\n",
        "        super(Net, self).__init__()   \n",
        "  \n",
        "        #rnn block\n",
        "        self.lstm_layer = Sequential(\n",
        "            \n",
        "            #embedding layer\n",
        "            Embedding(num_embeddings=len(TEXT.vocab), embedding_dim=100),\n",
        "        \n",
        "            #lstm layer\n",
        "            LSTM(input_size=100, hidden_size=128, batch_first=True)\n",
        "          \n",
        "            )\n",
        "\n",
        "        #dense block\n",
        "        self.dense_layer = Sequential(\n",
        "            \n",
        "            Linear(12800,128),\n",
        "\n",
        "            ReLU(),\n",
        "\n",
        "            Linear(128,10),\n",
        "            \n",
        "            Sigmoid()\n",
        "\n",
        "        )\n",
        "    \n",
        "    #forward pass\n",
        "    def forward(self, x):\n",
        "        \n",
        "        #rnn layer\n",
        "        hidden_states, (last_hidden_state,last_cell_state) = self.lstm_layer(x)\n",
        "\n",
        "        #flattening\n",
        "        hidden_states = hidden_states.reshape(hidden_states.size(0),-1)\n",
        "        \n",
        "        #dense layer\n",
        "        outputs=self.dense_layer(hidden_states)\n",
        "        \n",
        "        return outputs"
      ],
      "execution_count": 100,
      "outputs": []
    },
    {
      "cell_type": "code",
      "metadata": {
        "id": "-RBtZlDJuu-1",
        "colab": {
          "base_uri": "https://localhost:8080/"
        },
        "outputId": "d2fcfe02-5c45-4b4b-a774-51a61ea96315"
      },
      "source": [
        "#layers of the model\n",
        "model"
      ],
      "execution_count": 101,
      "outputs": [
        {
          "output_type": "execute_result",
          "data": {
            "text/plain": [
              "Net(\n",
              "  (rnn_layer): Sequential(\n",
              "    (0): Embedding(12483, 100)\n",
              "    (1): RNN(100, 128, batch_first=True)\n",
              "  )\n",
              "  (dense_layer): Sequential(\n",
              "    (0): Linear(in_features=12800, out_features=128, bias=True)\n",
              "    (1): ReLU()\n",
              "    (2): Linear(in_features=128, out_features=10, bias=True)\n",
              "    (3): Sigmoid()\n",
              "  )\n",
              ")"
            ]
          },
          "metadata": {
            "tags": []
          },
          "execution_count": 101
        }
      ]
    },
    {
      "cell_type": "code",
      "metadata": {
        "id": "JlSsG3LQvUNl",
        "colab": {
          "base_uri": "https://localhost:8080/"
        },
        "outputId": "8eecff28-b511-4785-d582-cee4f4f27771"
      },
      "source": [
        "N_EPOCHS = 10\n",
        "batch_size = 32\n",
        "\n",
        "# intialization\n",
        "best_valid_loss = float('inf')\n",
        "\n",
        "for epoch in range(N_EPOCHS):\n",
        "     \n",
        "    #train the model\n",
        "    train_loss   = train(X_train, y_train, batch_size)\n",
        "    \n",
        "    #evaluate the model\n",
        "    valid_loss   = evaluate(X_valid, y_valid, batch_size)\n",
        "\n",
        "    print('\\nEpoch :',epoch,\n",
        "          'Training loss:',round(train_loss,4),\n",
        "          '\\tValidation loss:',round(valid_loss,4))\n",
        "\n",
        "    #save the best model \n",
        "    if best_valid_loss >= valid_loss:\n",
        "        best_valid_loss = valid_loss\n",
        "        torch.save(model.state_dict(), '/content/drive/MyDrive/RNN/Dataset/Lstm_saved_weights.pt') \n",
        "        print(\"\\n----------------------------------------------------Saved best model------------------------------------------------------------------\")   \n"
      ],
      "execution_count": 102,
      "outputs": [
        {
          "output_type": "stream",
          "text": [
            "\n",
            "Epoch : 0 Training loss: 0.199 \tValidation loss: 0.3855\n",
            "\n",
            "----------------------------------------------------Saved best model------------------------------------------------------------------\n",
            "\n",
            "Epoch : 1 Training loss: 0.0704 \tValidation loss: 0.4912\n",
            "\n",
            "Epoch : 2 Training loss: 0.0197 \tValidation loss: 0.6506\n",
            "\n",
            "Epoch : 3 Training loss: 0.0055 \tValidation loss: 0.7574\n",
            "\n",
            "Epoch : 4 Training loss: 0.0019 \tValidation loss: 0.8421\n",
            "\n",
            "Epoch : 5 Training loss: 0.0011 \tValidation loss: 0.92\n",
            "\n",
            "Epoch : 6 Training loss: 0.0008 \tValidation loss: 0.9556\n",
            "\n",
            "Epoch : 7 Training loss: 0.0016 \tValidation loss: 1.0051\n",
            "\n",
            "Epoch : 8 Training loss: 0.0014 \tValidation loss: 1.0407\n",
            "\n",
            "Epoch : 9 Training loss: 0.0013 \tValidation loss: 1.0792\n"
          ],
          "name": "stdout"
        }
      ]
    },
    {
      "cell_type": "markdown",
      "metadata": {
        "id": "qWU2ZDir2q0j"
      },
      "source": [
        "# 7. Model Evaluation for LSTM"
      ]
    },
    {
      "cell_type": "markdown",
      "metadata": {
        "id": "pYLfWSpqvniv"
      },
      "source": [
        "Load the best model weights and now, the model is ready for the predictions"
      ]
    },
    {
      "cell_type": "code",
      "metadata": {
        "id": "K_jPYFKzvUUq",
        "colab": {
          "base_uri": "https://localhost:8080/"
        },
        "outputId": "5eff60b7-2f8a-493a-8a09-73b2b3a1f618"
      },
      "source": [
        "#load weights of best model\n",
        "path='/content/drive/MyDrive/RNN/Dataset/Lstm_saved_weights.pt'\n",
        "model.load_state_dict(torch.load(path))"
      ],
      "execution_count": 103,
      "outputs": [
        {
          "output_type": "execute_result",
          "data": {
            "text/plain": [
              "<All keys matched successfully>"
            ]
          },
          "metadata": {
            "tags": []
          },
          "execution_count": 103
        }
      ]
    },
    {
      "cell_type": "code",
      "metadata": {
        "id": "tCLWSfuXQYy9"
      },
      "source": [
        "#predict probabilities\n",
        "y_pred_prob = predict(X_valid, batch_size)"
      ],
      "execution_count": 104,
      "outputs": []
    },
    {
      "cell_type": "code",
      "metadata": {
        "id": "srL5tr77hAfP",
        "colab": {
          "base_uri": "https://localhost:8080/"
        },
        "outputId": "77ac8de3-dd25-4b03-cb01-1ec1f445f51a"
      },
      "source": [
        "y_pred_prob[0]"
      ],
      "execution_count": 105,
      "outputs": [
        {
          "output_type": "execute_result",
          "data": {
            "text/plain": [
              "array([1.8366662e-06, 7.9130483e-01, 1.9152751e-02, 1.7526303e-03,\n",
              "       5.8865771e-03, 9.2396282e-02, 2.3036125e-01, 9.0023845e-01,\n",
              "       8.2037610e-01, 1.1923098e-02], dtype=float32)"
            ]
          },
          "metadata": {
            "tags": []
          },
          "execution_count": 105
        }
      ]
    },
    {
      "cell_type": "code",
      "metadata": {
        "id": "p0d3ubp2hAdA"
      },
      "source": [
        "score=[]\n",
        "\n",
        "for thresh in threshold:\n",
        "    \n",
        "    #classes for each threshold\n",
        "    y_pred = classify(y_pred_prob, thresh) \n",
        "\n",
        "    #convert to 1d array\n",
        "    y_pred_1d    =  y_pred.ravel()\n",
        "    y_true_1d    =  y_true.ravel()\n",
        " \n",
        "    score.append(metrics.f1_score(y_true_1d, y_pred_1d))"
      ],
      "execution_count": 106,
      "outputs": []
    },
    {
      "cell_type": "code",
      "metadata": {
        "id": "FxFk7Gg3hAa8",
        "colab": {
          "base_uri": "https://localhost:8080/"
        },
        "outputId": "f9b30b8d-77dd-48ea-9b16-3d879649a00c"
      },
      "source": [
        "# find the optimal threshold\n",
        "opt = threshold[score.index(max(score))]\n",
        "print(opt)"
      ],
      "execution_count": 107,
      "outputs": [
        {
          "output_type": "stream",
          "text": [
            "0.37\n"
          ],
          "name": "stdout"
        }
      ]
    },
    {
      "cell_type": "code",
      "metadata": {
        "id": "_E8xaA0BhAXy"
      },
      "source": [
        "#predictions for optimal threshold\n",
        "y_pred = classify(y_pred_prob, opt)"
      ],
      "execution_count": 108,
      "outputs": []
    },
    {
      "cell_type": "code",
      "metadata": {
        "id": "tyr-2stWhAVB",
        "colab": {
          "base_uri": "https://localhost:8080/"
        },
        "outputId": "a2a16199-570f-4264-8364-d585e07f72b6"
      },
      "source": [
        "#converting to 1D\n",
        "y_pred_1d = y_pred.ravel()\n",
        "\n",
        "#Classification report\n",
        "print(metrics.classification_report(y_true_1d, y_pred_1d))"
      ],
      "execution_count": 109,
      "outputs": [
        {
          "output_type": "stream",
          "text": [
            "              precision    recall  f1-score   support\n",
            "\n",
            "         0.0       0.91      0.90      0.91     17478\n",
            "         1.0       0.65      0.67      0.66      4732\n",
            "\n",
            "    accuracy                           0.85     22210\n",
            "   macro avg       0.78      0.79      0.78     22210\n",
            "weighted avg       0.86      0.85      0.85     22210\n",
            "\n"
          ],
          "name": "stdout"
        }
      ]
    },
    {
      "cell_type": "code",
      "metadata": {
        "id": "FHxsCTdNhAR2"
      },
      "source": [
        "y_pred_label = mlb.inverse_transform(np.array(y_pred))"
      ],
      "execution_count": 110,
      "outputs": []
    },
    {
      "cell_type": "code",
      "metadata": {
        "id": "0hAUPQFNhAP-"
      },
      "source": [
        "df = pd.DataFrame({'comment':queries,'actual':y_true_label,'predictions':y_pred_label})"
      ],
      "execution_count": 111,
      "outputs": []
    },
    {
      "cell_type": "code",
      "metadata": {
        "id": "Fd_7LeiDhAM6",
        "colab": {
          "base_uri": "https://localhost:8080/",
          "height": 0
        },
        "outputId": "5a924fb8-59e1-44d2-f631-2232e234b2db"
      },
      "source": [
        "df.head()"
      ],
      "execution_count": 112,
      "outputs": [
        {
          "output_type": "execute_result",
          "data": {
            "text/html": [
              "<div>\n",
              "<style scoped>\n",
              "    .dataframe tbody tr th:only-of-type {\n",
              "        vertical-align: middle;\n",
              "    }\n",
              "\n",
              "    .dataframe tbody tr th {\n",
              "        vertical-align: top;\n",
              "    }\n",
              "\n",
              "    .dataframe thead th {\n",
              "        text-align: right;\n",
              "    }\n",
              "</style>\n",
              "<table border=\"1\" class=\"dataframe\">\n",
              "  <thead>\n",
              "    <tr style=\"text-align: right;\">\n",
              "      <th></th>\n",
              "      <th>comment</th>\n",
              "      <th>actual</th>\n",
              "      <th>predictions</th>\n",
              "    </tr>\n",
              "  </thead>\n",
              "  <tbody>\n",
              "    <tr>\n",
              "      <th>0</th>\n",
              "      <td>consider the following model y if g x beta u and y otherwise where u is iid according to some distribution function f i want to recover the distribution f without making too many assumptions that ...</td>\n",
              "      <td>(logistic, regression)</td>\n",
              "      <td>(distributions, regression, self study)</td>\n",
              "    </tr>\n",
              "    <tr>\n",
              "      <th>1</th>\n",
              "      <td>i am encountering the following problems and i don t really know which model a should pick all model selection criteria indicate that i should take the model with lag after building the var model ...</td>\n",
              "      <td>(hypothesis testing, time series)</td>\n",
              "      <td>(hypothesis testing, r, regression, self study)</td>\n",
              "    </tr>\n",
              "    <tr>\n",
              "      <th>2</th>\n",
              "      <td>basically i m attempting to recreate the results of an example from class in r what i m trying to do is decide whether it s best to use a single regression line for an entire data set or two lines...</td>\n",
              "      <td>(r, regression)</td>\n",
              "      <td>(r, regression)</td>\n",
              "    </tr>\n",
              "    <tr>\n",
              "      <th>3</th>\n",
              "      <td>in general i standardize my independent variables in regressions in order to properly compare the coefficients this way they have the same units standard deviations however with panel longitudinal...</td>\n",
              "      <td>(r, regression)</td>\n",
              "      <td>(logistic, r, regression)</td>\n",
              "    </tr>\n",
              "    <tr>\n",
              "      <th>4</th>\n",
              "      <td>let v to be forecasted value for periods through t and v t be its forecasted value at time t we express v t as the sum of two terms its mean at time t and its deviation from the mean at time t eps...</td>\n",
              "      <td>(r, time series)</td>\n",
              "      <td>(r, regression, time series)</td>\n",
              "    </tr>\n",
              "  </tbody>\n",
              "</table>\n",
              "</div>"
            ],
            "text/plain": [
              "                                                                                                                                                                                                   comment  ...                                      predictions\n",
              "0  consider the following model y if g x beta u and y otherwise where u is iid according to some distribution function f i want to recover the distribution f without making too many assumptions that ...  ...          (distributions, regression, self study)\n",
              "1  i am encountering the following problems and i don t really know which model a should pick all model selection criteria indicate that i should take the model with lag after building the var model ...  ...  (hypothesis testing, r, regression, self study)\n",
              "2  basically i m attempting to recreate the results of an example from class in r what i m trying to do is decide whether it s best to use a single regression line for an entire data set or two lines...  ...                                  (r, regression)\n",
              "3  in general i standardize my independent variables in regressions in order to properly compare the coefficients this way they have the same units standard deviations however with panel longitudinal...  ...                        (logistic, r, regression)\n",
              "4  let v to be forecasted value for periods through t and v t be its forecasted value at time t we express v t as the sum of two terms its mean at time t and its deviation from the mean at time t eps...  ...                     (r, regression, time series)\n",
              "\n",
              "[5 rows x 3 columns]"
            ]
          },
          "metadata": {
            "tags": []
          },
          "execution_count": 112
        }
      ]
    },
    {
      "cell_type": "code",
      "metadata": {
        "id": "x4kI46Z4hAJ8",
        "colab": {
          "base_uri": "https://localhost:8080/"
        },
        "outputId": "3355ddf3-be78-48fc-f88a-fe738668eab3"
      },
      "source": [
        "text = \"For example, in the case of logistic regression, the learning function is a Sigmoid function that tries to separate the 2 classes\"\n",
        "\n",
        "tags = predict_tags(text)\n",
        "print(\"Query: \",text)\n",
        "print(\"Predicted tags:\",tags)"
      ],
      "execution_count": 113,
      "outputs": [
        {
          "output_type": "stream",
          "text": [
            "Query:  For example, in the case of logistic regression, the learning function is a Sigmoid function that tries to separate the 2 classes\n",
            "Predicted tags: ('logistic',)\n"
          ],
          "name": "stdout"
        }
      ]
    }
  ]
}